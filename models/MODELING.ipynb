{
 "cells": [
  {
   "cell_type": "code",
   "execution_count": 37,
   "metadata": {
    "collapsed": true
   },
   "outputs": [],
   "source": [
    "import pandas as pd\n",
    "import sys\n",
    "import numpy as np\n",
    "import matplotlib.pyplot as plt\n",
    "import sklearn\n",
    "import seaborn as sns\n",
    "%matplotlib inline"
   ]
  },
  {
   "cell_type": "markdown",
   "metadata": {},
   "source": [
    "# Data Loading"
   ]
  },
  {
   "cell_type": "code",
   "execution_count": 38,
   "metadata": {
    "collapsed": true
   },
   "outputs": [],
   "source": [
    "data2009 = pd.read_csv('/Users/gregdhillon/modelingProject/FINISHED_DATA/metadata/Data2009.csv')\n",
    "data2010 = pd.read_csv('/Users/gregdhillon/modelingProject/FINISHED_DATA/metadata/Data2010.csv')\n",
    "data2011 = pd.read_csv('/Users/gregdhillon/modelingProject/FINISHED_DATA/metadata/Data2011.csv')\n",
    "data2012 = pd.read_csv('/Users/gregdhillon/modelingProject/FINISHED_DATA/metadata/Data2012.csv')\n",
    "data2013 = pd.read_csv('/Users/gregdhillon/modelingProject/FINISHED_DATA/metadata/Data2013.csv')\n",
    "data2014 = pd.read_csv('/Users/gregdhillon/modelingProject/FINISHED_DATA/metadata/Data2014.csv')"
   ]
  },
  {
   "cell_type": "code",
   "execution_count": 39,
   "metadata": {
    "collapsed": true
   },
   "outputs": [],
   "source": [
    "frames = [data2009, data2010, data2011, data2012, data2013]\n",
    "model_data = pd.concat(frames, axis=0, join='outer',copy=True)"
   ]
  },
  {
   "cell_type": "code",
   "execution_count": 40,
   "metadata": {
    "collapsed": true
   },
   "outputs": [],
   "source": [
    "def drop(df):\n",
    "    df = df.replace([np.inf, -np.inf], np.nan)\n",
    "    df = df.dropna()"
   ]
  },
  {
   "cell_type": "code",
   "execution_count": 41,
   "metadata": {
    "collapsed": true
   },
   "outputs": [],
   "source": [
    "drop(model_data)\n",
    "drop(data2014)"
   ]
  },
  {
   "cell_type": "code",
   "execution_count": 42,
   "metadata": {
    "collapsed": true
   },
   "outputs": [],
   "source": [
    "model_data = model_data[np.isfinite(model_data['Crime_rate'])]\n",
    "data2014 = data2014[np.isfinite(data2014['Crime_rate'])]"
   ]
  },
  {
   "cell_type": "markdown",
   "metadata": {},
   "source": [
    "# Data Correlation"
   ]
  },
  {
   "cell_type": "code",
   "execution_count": 43,
   "metadata": {},
   "outputs": [
    {
     "data": {
      "text/plain": [
       "Age                            -0.275623\n",
       "YEAR                           -0.037061\n",
       "Chronic respiratory diseases    0.122393\n",
       "Nutritional deficiencies        0.136693\n",
       "Cardiovascular diseases         0.176481\n",
       "Unemployment_rate               0.243807\n",
       "HIV/AIDS and tuberculosis       0.432302\n",
       "Crime_rate                      1.000000\n",
       "Name: Crime_rate, dtype: float64"
      ]
     },
     "execution_count": 43,
     "metadata": {},
     "output_type": "execute_result"
    }
   ],
   "source": [
    "model_data.corr()['Crime_rate'].sort_values()"
   ]
  },
  {
   "cell_type": "code",
   "execution_count": 44,
   "metadata": {
    "collapsed": true
   },
   "outputs": [],
   "source": [
    "categories = ['Cardiovascular diseases',\n",
    "       'Chronic respiratory diseases', 'HIV/AIDS and tuberculosis',\n",
    "       'Nutritional deficiencies', 'Age', 'Unemployment_rate']\n",
    "X_train = model_data[categories]\n",
    "y_train = model_data[['Crime_rate']]\n",
    "X_test = data2014[categories]\n",
    "y_test = data2014[['Crime_rate']]\n",
    "#X_train, X_test, y_train, y_test = sk.model_selection.train_test_split(X, Y, test_size=0.1, random_state=101)"
   ]
  },
  {
   "cell_type": "markdown",
   "metadata": {},
   "source": [
    "# OLS Linear Regession/Linear Regression"
   ]
  },
  {
   "cell_type": "code",
   "execution_count": 33,
   "metadata": {},
   "outputs": [],
   "source": [
    "import statsmodels.api as sm"
   ]
  },
  {
   "cell_type": "code",
   "execution_count": 53,
   "metadata": {},
   "outputs": [
    {
     "data": {
      "text/html": [
       "<table class=\"simpletable\">\n",
       "<caption>OLS Regression Results</caption>\n",
       "<tr>\n",
       "  <th>Dep. Variable:</th>       <td>Crime_rate</td>    <th>  R-squared:         </th>  <td>   0.784</td>  \n",
       "</tr>\n",
       "<tr>\n",
       "  <th>Model:</th>                   <td>OLS</td>       <th>  Adj. R-squared:    </th>  <td>   0.784</td>  \n",
       "</tr>\n",
       "<tr>\n",
       "  <th>Method:</th>             <td>Least Squares</td>  <th>  F-statistic:       </th>  <td>   8825.</td>  \n",
       "</tr>\n",
       "<tr>\n",
       "  <th>Date:</th>             <td>Sun, 09 Jun 2019</td> <th>  Prob (F-statistic):</th>   <td>  0.00</td>   \n",
       "</tr>\n",
       "<tr>\n",
       "  <th>Time:</th>                 <td>17:11:43</td>     <th>  Log-Likelihood:    </th> <td>-1.3532e+05</td>\n",
       "</tr>\n",
       "<tr>\n",
       "  <th>No. Observations:</th>      <td> 14587</td>      <th>  AIC:               </th>  <td>2.707e+05</td> \n",
       "</tr>\n",
       "<tr>\n",
       "  <th>Df Residuals:</th>          <td> 14581</td>      <th>  BIC:               </th>  <td>2.707e+05</td> \n",
       "</tr>\n",
       "<tr>\n",
       "  <th>Df Model:</th>              <td>     6</td>      <th>                     </th>      <td> </td>     \n",
       "</tr>\n",
       "<tr>\n",
       "  <th>Covariance Type:</th>      <td>nonrobust</td>    <th>                     </th>      <td> </td>     \n",
       "</tr>\n",
       "</table>\n",
       "<table class=\"simpletable\">\n",
       "<tr>\n",
       "                <td></td>                  <th>coef</th>     <th>std err</th>      <th>t</th>      <th>P>|t|</th>  <th>[0.025</th>    <th>0.975]</th>  \n",
       "</tr>\n",
       "<tr>\n",
       "  <th>Cardiovascular diseases</th>      <td>   -2.9548</td> <td>    0.508</td> <td>   -5.819</td> <td> 0.000</td> <td>   -3.950</td> <td>   -1.959</td>\n",
       "</tr>\n",
       "<tr>\n",
       "  <th>Chronic respiratory diseases</th> <td>   25.5818</td> <td>    1.761</td> <td>   14.527</td> <td> 0.000</td> <td>   22.130</td> <td>   29.034</td>\n",
       "</tr>\n",
       "<tr>\n",
       "  <th>HIV/AIDS and tuberculosis</th>    <td>  699.5640</td> <td>   14.019</td> <td>   49.901</td> <td> 0.000</td> <td>  672.085</td> <td>  727.043</td>\n",
       "</tr>\n",
       "<tr>\n",
       "  <th>Nutritional deficiencies</th>     <td>   24.0570</td> <td>   36.209</td> <td>    0.664</td> <td> 0.506</td> <td>  -46.917</td> <td>   95.031</td>\n",
       "</tr>\n",
       "<tr>\n",
       "  <th>Age</th>                          <td>   25.6993</td> <td>    1.305</td> <td>   19.686</td> <td> 0.000</td> <td>   23.140</td> <td>   28.258</td>\n",
       "</tr>\n",
       "<tr>\n",
       "  <th>Unemployment_rate</th>            <td>   90.2310</td> <td>    7.839</td> <td>   11.511</td> <td> 0.000</td> <td>   74.866</td> <td>  105.596</td>\n",
       "</tr>\n",
       "</table>\n",
       "<table class=\"simpletable\">\n",
       "<tr>\n",
       "  <th>Omnibus:</th>       <td>15364.852</td> <th>  Durbin-Watson:     </th>  <td>   1.855</td>  \n",
       "</tr>\n",
       "<tr>\n",
       "  <th>Prob(Omnibus):</th>  <td> 0.000</td>   <th>  Jarque-Bera (JB):  </th> <td>7525973.620</td>\n",
       "</tr>\n",
       "<tr>\n",
       "  <th>Skew:</th>           <td> 4.573</td>   <th>  Prob(JB):          </th>  <td>    0.00</td>  \n",
       "</tr>\n",
       "<tr>\n",
       "  <th>Kurtosis:</th>       <td>113.900</td>  <th>  Cond. No.          </th>  <td>    510.</td>  \n",
       "</tr>\n",
       "</table>"
      ],
      "text/plain": [
       "<class 'statsmodels.iolib.summary.Summary'>\n",
       "\"\"\"\n",
       "                            OLS Regression Results                            \n",
       "==============================================================================\n",
       "Dep. Variable:             Crime_rate   R-squared:                       0.784\n",
       "Model:                            OLS   Adj. R-squared:                  0.784\n",
       "Method:                 Least Squares   F-statistic:                     8825.\n",
       "Date:                Sun, 09 Jun 2019   Prob (F-statistic):               0.00\n",
       "Time:                        17:11:43   Log-Likelihood:            -1.3532e+05\n",
       "No. Observations:               14587   AIC:                         2.707e+05\n",
       "Df Residuals:                   14581   BIC:                         2.707e+05\n",
       "Df Model:                           6                                         \n",
       "Covariance Type:            nonrobust                                         \n",
       "================================================================================================\n",
       "                                   coef    std err          t      P>|t|      [0.025      0.975]\n",
       "------------------------------------------------------------------------------------------------\n",
       "Cardiovascular diseases         -2.9548      0.508     -5.819      0.000      -3.950      -1.959\n",
       "Chronic respiratory diseases    25.5818      1.761     14.527      0.000      22.130      29.034\n",
       "HIV/AIDS and tuberculosis      699.5640     14.019     49.901      0.000     672.085     727.043\n",
       "Nutritional deficiencies        24.0570     36.209      0.664      0.506     -46.917      95.031\n",
       "Age                             25.6993      1.305     19.686      0.000      23.140      28.258\n",
       "Unemployment_rate               90.2310      7.839     11.511      0.000      74.866     105.596\n",
       "==============================================================================\n",
       "Omnibus:                    15364.852   Durbin-Watson:                   1.855\n",
       "Prob(Omnibus):                  0.000   Jarque-Bera (JB):          7525973.620\n",
       "Skew:                           4.573   Prob(JB):                         0.00\n",
       "Kurtosis:                     113.900   Cond. No.                         510.\n",
       "==============================================================================\n",
       "\n",
       "Warnings:\n",
       "[1] Standard Errors assume that the covariance matrix of the errors is correctly specified.\n",
       "\"\"\""
      ]
     },
     "execution_count": 53,
     "metadata": {},
     "output_type": "execute_result"
    }
   ],
   "source": [
    "model = sm.OLS(y_train, X_train).fit()\n",
    "predictions = model.predict(X_test)\n",
    "model.summary()"
   ]
  },
  {
   "cell_type": "markdown",
   "metadata": {},
   "source": [
    "# Gradient Boosting"
   ]
  },
  {
   "cell_type": "code",
   "execution_count": 48,
   "metadata": {
    "collapsed": true
   },
   "outputs": [],
   "source": [
    "from sklearn.ensemble import GradientBoostingRegressor\n",
    "from sklearn.model_selection import GridSearchCV\n",
    "from sklearn.model_selection import ShuffleSplit, train_test_split\n",
    "from sklearn import metrics"
   ]
  },
  {
   "cell_type": "code",
   "execution_count": 49,
   "metadata": {},
   "outputs": [
    {
     "name": "stderr",
     "output_type": "stream",
     "text": [
      "/Users/gregdhillon/anaconda2/lib/python2.7/site-packages/sklearn/utils/validation.py:761: DataConversionWarning: A column-vector y was passed when a 1d array was expected. Please change the shape of y to (n_samples, ), for example using ravel().\n",
      "  y = column_or_1d(y, warn=True)\n"
     ]
    }
   ],
   "source": [
    "gbm = GradientBoostingRegressor(n_estimators=100)\n",
    "gbm.fit(X_train, y_train)\n",
    "predictions = gbm.predict(X_test)"
   ]
  },
  {
   "cell_type": "code",
   "execution_count": 50,
   "metadata": {},
   "outputs": [
    {
     "name": "stdout",
     "output_type": "stream",
     "text": [
      "[0.05426337 0.12520239 0.60349546 0.04770605 0.1285621  0.04077063]\n",
      "R-squared for Train: 0.41\n",
      "R-squared for Test: 0.33\n"
     ]
    }
   ],
   "source": [
    "print gbm.feature_importances_\n",
    "print \"R-squared for Train: %.2f\" %gbm.score(X_train, y_train) \n",
    "print \"R-squared for Test: %.2f\" %gbm.score(X_test, y_test) "
   ]
  },
  {
   "cell_type": "code",
   "execution_count": 51,
   "metadata": {
    "collapsed": true
   },
   "outputs": [],
   "source": [
    "def GradientBooster(param_grid, n_jobs): \n",
    "    estimator = GradientBoostingRegressor() \n",
    "    cv = ShuffleSplit(X_train.shape[0], test_size=0.2)\n",
    "    classifier = GridSearchCV(estimator=estimator, cv=cv, param_grid=param_grid, n_jobs=n_jobs) \n",
    "    classifier.fit(X_train, y_train)\n",
    "    print \"Best Estimator learned through GridSearch\" \n",
    "    print classifier.best_estimator_ \n",
    "    return cv, classifier.best_estimator_"
   ]
  },
  {
   "cell_type": "code",
   "execution_count": 52,
   "metadata": {
    "collapsed": true
   },
   "outputs": [],
   "source": [
    "param_grid={'n_estimators':[100], \n",
    "            'learning_rate': [0.1],\n",
    "            'max_depth':[6], \n",
    "            'min_samples_leaf':[3], \n",
    "            'max_features':[1.0] } \n",
    "n_jobs=4 "
   ]
  },
  {
   "cell_type": "code",
   "execution_count": 266,
   "metadata": {},
   "outputs": [
    {
     "name": "stdout",
     "output_type": "stream",
     "text": [
      "Best Estimator learned through GridSearch\n",
      "GradientBoostingRegressor(alpha=0.9, criterion='friedman_mse', init=None,\n",
      "             learning_rate=0.1, loss='ls', max_depth=6, max_features=1.0,\n",
      "             max_leaf_nodes=None, min_impurity_decrease=0.0,\n",
      "             min_impurity_split=None, min_samples_leaf=3,\n",
      "             min_samples_split=2, min_weight_fraction_leaf=0.0,\n",
      "             n_estimators=100, n_iter_no_change=None, presort='auto',\n",
      "             random_state=None, subsample=1.0, tol=0.0001,\n",
      "             validation_fraction=0.1, verbose=0, warm_start=False)\n"
     ]
    }
   ],
   "source": [
    "cv,best_est=GradientBooster(param_grid, n_jobs)"
   ]
  },
  {
   "cell_type": "code",
   "execution_count": 267,
   "metadata": {},
   "outputs": [
    {
     "name": "stdout",
     "output_type": "stream",
     "text": [
      "Best Estimator Parameters\n",
      "---------------------------\n",
      "n_estimators: 100\n",
      "max_depth: 6\n",
      "Learning Rate: 0.1\n",
      "min_samples_leaf: 3\n",
      "max_features: 1.0\n",
      "\n",
      "Train R-squared: 0.62\n"
     ]
    }
   ],
   "source": [
    "print \"Best Estimator Parameters\" \n",
    "print\"---------------------------\" \n",
    "print \"n_estimators: %d\" %best_est.n_estimators \n",
    "print \"max_depth: %d\" %best_est.max_depth \n",
    "print \"Learning Rate: %.1f\" %best_est.learning_rate \n",
    "print \"min_samples_leaf: %d\" %best_est.min_samples_leaf \n",
    "print \"max_features: %.1f\" %best_est.max_features \n",
    "print\n",
    "print \"Train R-squared: %.2f\" %best_est.score(X_train,y_train) "
   ]
  },
  {
   "cell_type": "code",
   "execution_count": 268,
   "metadata": {},
   "outputs": [
    {
     "name": "stdout",
     "output_type": "stream",
     "text": [
      "Train R-squared: 0.62\n",
      "Test R-squared: 0.48\n"
     ]
    }
   ],
   "source": [
    "estimator = best_est \n",
    "#Re-fitting to the train set \n",
    "estimator.fit(X_train, y_train) \n",
    "#Calculating train/test scores - R-squared value \n",
    "print \"Train R-squared: %.2f\" %estimator.score(X_train, y_train) \n",
    "print \"Test R-squared: %.2f\" %estimator.score(X_test, y_test) "
   ]
  },
  {
   "cell_type": "markdown",
   "metadata": {},
   "source": [
    "# Random Forest"
   ]
  },
  {
   "cell_type": "code",
   "execution_count": 41,
   "metadata": {
    "collapsed": true
   },
   "outputs": [],
   "source": [
    "from sklearn.ensemble import RandomForestRegressor\n",
    "def RandomForest(estimators):\n",
    "    regressor = RandomForestRegressor(n_estimators=estimators, random_state=0)  \n",
    "    regressor.fit(X_train, y_train)  \n",
    "    y_pred = regressor.predict(X_test)\n",
    "    print('Number of Trees: %.2f' %estimators)\n",
    "    print('Mean Absolute Error: %.2f' %metrics.mean_absolute_error(y_test, y_pred))  \n",
    "    print('Mean Squared Error: %.2f' %metrics.mean_squared_error(y_test, y_pred))  \n",
    "    print('Root Mean Squared Error: %.2f' %np.sqrt(metrics.mean_squared_error(y_test, y_pred)))  \n",
    "    print"
   ]
  },
  {
   "cell_type": "code",
   "execution_count": 42,
   "metadata": {},
   "outputs": [
    {
     "name": "stderr",
     "output_type": "stream",
     "text": [
      "/Users/gregdhillon/anaconda2/lib/python2.7/site-packages/ipykernel_launcher.py:4: DataConversionWarning: A column-vector y was passed when a 1d array was expected. Please change the shape of y to (n_samples,), for example using ravel().\n",
      "  after removing the cwd from sys.path.\n"
     ]
    },
    {
     "name": "stdout",
     "output_type": "stream",
     "text": [
      "Number of Trees: 10.00\n",
      "Mean Absolute Error: 1322.66\n",
      "Mean Squared Error: 3802069.78\n",
      "Root Mean Squared Error: 1949.89\n",
      "\n",
      "Number of Trees: 20.00\n",
      "Mean Absolute Error: 1283.22\n",
      "Mean Squared Error: 3499675.79\n",
      "Root Mean Squared Error: 1870.74\n",
      "\n",
      "Number of Trees: 40.00\n",
      "Mean Absolute Error: 1264.87\n",
      "Mean Squared Error: 3389512.11\n",
      "Root Mean Squared Error: 1841.06\n",
      "\n",
      "Number of Trees: 60.00\n",
      "Mean Absolute Error: 1259.12\n",
      "Mean Squared Error: 3396125.23\n",
      "Root Mean Squared Error: 1842.86\n",
      "\n",
      "Number of Trees: 80.00\n",
      "Mean Absolute Error: 1253.94\n",
      "Mean Squared Error: 3346763.19\n",
      "Root Mean Squared Error: 1829.42\n",
      "\n",
      "Number of Trees: 100.00\n",
      "Mean Absolute Error: 1248.84\n",
      "Mean Squared Error: 3325610.45\n",
      "Root Mean Squared Error: 1823.63\n",
      "\n",
      "Number of Trees: 120.00\n",
      "Mean Absolute Error: 1248.19\n",
      "Mean Squared Error: 3334035.42\n",
      "Root Mean Squared Error: 1825.93\n",
      "\n",
      "Number of Trees: 140.00\n",
      "Mean Absolute Error: 1243.96\n",
      "Mean Squared Error: 3308052.00\n",
      "Root Mean Squared Error: 1818.81\n",
      "\n",
      "Number of Trees: 160.00\n",
      "Mean Absolute Error: 1244.29\n",
      "Mean Squared Error: 3312010.52\n",
      "Root Mean Squared Error: 1819.89\n",
      "\n",
      "Number of Trees: 180.00\n",
      "Mean Absolute Error: 1245.88\n",
      "Mean Squared Error: 3306483.09\n",
      "Root Mean Squared Error: 1818.37\n",
      "\n",
      "Number of Trees: 200.00\n",
      "Mean Absolute Error: 1244.99\n",
      "Mean Squared Error: 3295335.13\n",
      "Root Mean Squared Error: 1815.31\n",
      "\n",
      "Number of Trees: 300.00\n",
      "Mean Absolute Error: 1242.32\n",
      "Mean Squared Error: 3276984.86\n",
      "Root Mean Squared Error: 1810.24\n",
      "\n"
     ]
    }
   ],
   "source": [
    "num_trees = [10, 20, 40, 60, 80, 100, 120, 140, 160, 180, 200, 300]\n",
    "for tree in num_trees:\n",
    "    RandomForest(tree)"
   ]
  },
  {
   "cell_type": "markdown",
   "metadata": {},
   "source": [
    "# Neural Network"
   ]
  },
  {
   "cell_type": "code",
   "execution_count": 12,
   "metadata": {
    "collapsed": true
   },
   "outputs": [],
   "source": [
    "import tensorflow as tf\n",
    "import keras\n",
    "from keras.callbacks import ModelCheckpoint\n",
    "from keras.models import Sequential\n",
    "from keras.layers import Dense, Activation, Flatten"
   ]
  },
  {
   "cell_type": "code",
   "execution_count": 48,
   "metadata": {},
   "outputs": [
    {
     "name": "stdout",
     "output_type": "stream",
     "text": [
      "Epoch 1/100\n",
      "14587/14587 [==============================] - 3s 197us/step - loss: 1977.4014 - mean_absolute_error: 1977.4014\n",
      "Epoch 2/100\n",
      "14587/14587 [==============================] - 3s 172us/step - loss: 1824.1576 - mean_absolute_error: 1824.1576\n",
      "Epoch 3/100\n",
      "14587/14587 [==============================] - 3s 178us/step - loss: 1802.4190 - mean_absolute_error: 1802.4190\n",
      "Epoch 4/100\n",
      "14587/14587 [==============================] - 3s 174us/step - loss: 1787.5347 - mean_absolute_error: 1787.5347\n",
      "Epoch 5/100\n",
      "14587/14587 [==============================] - 3s 175us/step - loss: 1774.6305 - mean_absolute_error: 1774.6305\n",
      "Epoch 6/100\n",
      "14587/14587 [==============================] - 3s 177us/step - loss: 1758.9056 - mean_absolute_error: 1758.9056\n",
      "Epoch 7/100\n",
      "14587/14587 [==============================] - 3s 180us/step - loss: 1742.1564 - mean_absolute_error: 1742.1564\n",
      "Epoch 8/100\n",
      "14587/14587 [==============================] - 2s 171us/step - loss: 1740.8345 - mean_absolute_error: 1740.8345\n",
      "Epoch 9/100\n",
      "14587/14587 [==============================] - 3s 177us/step - loss: 1735.5223 - mean_absolute_error: 1735.5223\n",
      "Epoch 10/100\n",
      "14587/14587 [==============================] - 3s 177us/step - loss: 1730.9738 - mean_absolute_error: 1730.9738\n",
      "Epoch 11/100\n",
      "14587/14587 [==============================] - 3s 179us/step - loss: 1723.4162 - mean_absolute_error: 1723.4162\n",
      "Epoch 12/100\n",
      "14587/14587 [==============================] - 3s 175us/step - loss: 1721.6260 - mean_absolute_error: 1721.6260\n",
      "Epoch 13/100\n",
      "14587/14587 [==============================] - 3s 179us/step - loss: 1716.0599 - mean_absolute_error: 1716.0599\n",
      "Epoch 14/100\n",
      "14587/14587 [==============================] - 3s 179us/step - loss: 1710.7525 - mean_absolute_error: 1710.7525\n",
      "Epoch 15/100\n",
      "14587/14587 [==============================] - 3s 176us/step - loss: 1707.7109 - mean_absolute_error: 1707.7109\n",
      "Epoch 16/100\n",
      "14587/14587 [==============================] - 3s 175us/step - loss: 1701.0180 - mean_absolute_error: 1701.0180\n",
      "Epoch 17/100\n",
      "14587/14587 [==============================] - 3s 173us/step - loss: 1694.4952 - mean_absolute_error: 1694.4952\n",
      "Epoch 18/100\n",
      "14587/14587 [==============================] - 3s 176us/step - loss: 1692.0706 - mean_absolute_error: 1692.0706\n",
      "Epoch 19/100\n",
      "14587/14587 [==============================] - 3s 171us/step - loss: 1683.2680 - mean_absolute_error: 1683.2680\n",
      "Epoch 20/100\n",
      "14587/14587 [==============================] - 3s 178us/step - loss: 1677.8648 - mean_absolute_error: 1677.8648\n",
      "Epoch 21/100\n",
      "14587/14587 [==============================] - 3s 176us/step - loss: 1677.2312 - mean_absolute_error: 1677.2312\n",
      "Epoch 22/100\n",
      "14587/14587 [==============================] - 3s 177us/step - loss: 1670.8600 - mean_absolute_error: 1670.8600\n",
      "Epoch 23/100\n",
      "14587/14587 [==============================] - 3s 173us/step - loss: 1664.9691 - mean_absolute_error: 1664.9691\n",
      "Epoch 24/100\n",
      "14587/14587 [==============================] - 2s 169us/step - loss: 1664.3216 - mean_absolute_error: 1664.3216\n",
      "Epoch 25/100\n",
      "14587/14587 [==============================] - 2s 169us/step - loss: 1658.8955 - mean_absolute_error: 1658.8955\n",
      "Epoch 26/100\n",
      "14587/14587 [==============================] - 2s 170us/step - loss: 1653.9017 - mean_absolute_error: 1653.9017\n",
      "Epoch 27/100\n",
      "14587/14587 [==============================] - 2s 169us/step - loss: 1651.9050 - mean_absolute_error: 1651.9050\n",
      "Epoch 28/100\n",
      "14587/14587 [==============================] - 2s 170us/step - loss: 1648.4328 - mean_absolute_error: 1648.4328\n",
      "Epoch 29/100\n",
      "14587/14587 [==============================] - 2s 170us/step - loss: 1645.2565 - mean_absolute_error: 1645.2565 2s - \n",
      "Epoch 30/100\n",
      "14587/14587 [==============================] - 3s 173us/step - loss: 1641.6942 - mean_absolute_error: 1641.6942\n",
      "Epoch 31/100\n",
      "14587/14587 [==============================] - 3s 173us/step - loss: 1636.7257 - mean_absolute_error: 1636.7257\n",
      "Epoch 32/100\n",
      "14587/14587 [==============================] - 2s 169us/step - loss: 1631.8758 - mean_absolute_error: 1631.8758\n",
      "Epoch 33/100\n",
      "14587/14587 [==============================] - 2s 169us/step - loss: 1627.7580 - mean_absolute_error: 1627.7580\n",
      "Epoch 34/100\n",
      "14587/14587 [==============================] - 2s 170us/step - loss: 1622.0292 - mean_absolute_error: 1622.0292\n",
      "Epoch 35/100\n",
      "14587/14587 [==============================] - 2s 169us/step - loss: 1621.1549 - mean_absolute_error: 1621.1549 2s - \n",
      "Epoch 36/100\n",
      "14587/14587 [==============================] - 2s 169us/step - loss: 1614.2150 - mean_absolute_error: 1614.2150\n",
      "Epoch 37/100\n",
      "14587/14587 [==============================] - 2s 170us/step - loss: 1616.6669 - mean_absolute_error: 1616.6669\n",
      "Epoch 38/100\n",
      "14587/14587 [==============================] - 3s 173us/step - loss: 1606.3923 - mean_absolute_error: 1606.3923\n",
      "Epoch 39/100\n",
      "14587/14587 [==============================] - 3s 173us/step - loss: 1602.9276 - mean_absolute_error: 1602.9276\n",
      "Epoch 40/100\n",
      "14587/14587 [==============================] - 2s 169us/step - loss: 1597.4198 - mean_absolute_error: 1597.4198\n",
      "Epoch 41/100\n",
      "14587/14587 [==============================] - 2s 170us/step - loss: 1594.2099 - mean_absolute_error: 1594.2099\n",
      "Epoch 42/100\n",
      "14587/14587 [==============================] - 2s 170us/step - loss: 1590.0658 - mean_absolute_error: 1590.0658 2s - lo\n",
      "Epoch 43/100\n",
      "14587/14587 [==============================] - 3s 172us/step - loss: 1587.9079 - mean_absolute_error: 1587.9079\n",
      "Epoch 44/100\n",
      "14587/14587 [==============================] - 2s 170us/step - loss: 1581.3614 - mean_absolute_error: 1581.3614\n",
      "Epoch 45/100\n",
      "14587/14587 [==============================] - 2s 170us/step - loss: 1573.7254 - mean_absolute_error: 1573.7254\n",
      "Epoch 46/100\n",
      "14587/14587 [==============================] - 3s 173us/step - loss: 1569.6406 - mean_absolute_error: 1569.6406\n",
      "Epoch 47/100\n",
      "14587/14587 [==============================] - 3s 172us/step - loss: 1569.5790 - mean_absolute_error: 1569.5790\n",
      "Epoch 48/100\n",
      "14587/14587 [==============================] - 2s 170us/step - loss: 1562.2118 - mean_absolute_error: 1562.2118\n",
      "Epoch 49/100\n",
      "14587/14587 [==============================] - 2s 170us/step - loss: 1560.9138 - mean_absolute_error: 1560.9138\n",
      "Epoch 50/100\n",
      "14587/14587 [==============================] - 2s 171us/step - loss: 1555.7510 - mean_absolute_error: 1555.7510\n",
      "Epoch 51/100\n",
      "14587/14587 [==============================] - 3s 172us/step - loss: 1552.2351 - mean_absolute_error: 1552.2351\n",
      "Epoch 52/100\n",
      "14587/14587 [==============================] - 2s 170us/step - loss: 1545.3167 - mean_absolute_error: 1545.3167\n",
      "Epoch 53/100\n",
      "14587/14587 [==============================] - 2s 168us/step - loss: 1542.2288 - mean_absolute_error: 1542.2288\n",
      "Epoch 54/100\n",
      "14587/14587 [==============================] - 3s 172us/step - loss: 1536.3317 - mean_absolute_error: 1536.3317\n",
      "Epoch 55/100\n",
      "14587/14587 [==============================] - 3s 173us/step - loss: 1532.5102 - mean_absolute_error: 1532.5102\n",
      "Epoch 56/100\n",
      "14587/14587 [==============================] - 2s 168us/step - loss: 1530.6728 - mean_absolute_error: 1530.6728\n",
      "Epoch 57/100\n",
      "14587/14587 [==============================] - 2s 168us/step - loss: 1522.4506 - mean_absolute_error: 1522.4506\n",
      "Epoch 58/100\n",
      "14587/14587 [==============================] - 2s 169us/step - loss: 1519.6232 - mean_absolute_error: 1519.6232\n",
      "Epoch 59/100\n",
      "14587/14587 [==============================] - 2s 169us/step - loss: 1516.6438 - mean_absolute_error: 1516.6438\n",
      "Epoch 60/100\n",
      "14587/14587 [==============================] - 2s 168us/step - loss: 1508.7000 - mean_absolute_error: 1508.7000\n",
      "Epoch 61/100\n",
      "14587/14587 [==============================] - 2s 169us/step - loss: 1501.6795 - mean_absolute_error: 1501.6795\n",
      "Epoch 62/100\n",
      "14587/14587 [==============================] - 3s 172us/step - loss: 1498.0118 - mean_absolute_error: 1498.0118\n",
      "Epoch 63/100\n",
      "14587/14587 [==============================] - 2s 171us/step - loss: 1490.3796 - mean_absolute_error: 1490.3796\n",
      "Epoch 64/100\n",
      "14587/14587 [==============================] - 2s 168us/step - loss: 1483.0207 - mean_absolute_error: 1483.0207\n",
      "Epoch 65/100\n",
      "14587/14587 [==============================] - 2s 169us/step - loss: 1476.6436 - mean_absolute_error: 1476.6436\n",
      "Epoch 66/100\n",
      "14587/14587 [==============================] - 2s 168us/step - loss: 1474.6066 - mean_absolute_error: 1474.6066\n",
      "Epoch 67/100\n",
      "14587/14587 [==============================] - 2s 168us/step - loss: 1470.3668 - mean_absolute_error: 1470.3668\n",
      "Epoch 68/100\n",
      "14587/14587 [==============================] - 2s 169us/step - loss: 1456.7076 - mean_absolute_error: 1456.7076\n",
      "Epoch 69/100\n",
      "14587/14587 [==============================] - 2s 169us/step - loss: 1449.5197 - mean_absolute_error: 1449.5197\n",
      "Epoch 70/100\n",
      "14587/14587 [==============================] - 2s 171us/step - loss: 1443.7003 - mean_absolute_error: 1443.7003\n",
      "Epoch 71/100\n",
      "14587/14587 [==============================] - 2s 171us/step - loss: 1435.6008 - mean_absolute_error: 1435.6008\n",
      "Epoch 72/100\n",
      "14587/14587 [==============================] - 2s 168us/step - loss: 1432.1404 - mean_absolute_error: 1432.1404\n",
      "Epoch 73/100\n",
      "14587/14587 [==============================] - 2s 168us/step - loss: 1421.6218 - mean_absolute_error: 1421.6218\n",
      "Epoch 74/100\n",
      "14587/14587 [==============================] - 2s 167us/step - loss: 1409.9420 - mean_absolute_error: 1409.9420\n",
      "Epoch 75/100\n",
      "14587/14587 [==============================] - 2s 169us/step - loss: 1402.9815 - mean_absolute_error: 1402.9815\n",
      "Epoch 76/100\n",
      "14587/14587 [==============================] - 2s 168us/step - loss: 1394.5367 - mean_absolute_error: 1394.5367\n",
      "Epoch 77/100\n",
      "14587/14587 [==============================] - 2s 168us/step - loss: 1387.0329 - mean_absolute_error: 1387.0329\n",
      "Epoch 78/100\n",
      "14587/14587 [==============================] - 2s 170us/step - loss: 1374.5047 - mean_absolute_error: 1374.5047\n",
      "Epoch 79/100\n",
      "14587/14587 [==============================] - 3s 172us/step - loss: 1372.3215 - mean_absolute_error: 1372.3215\n",
      "Epoch 80/100\n",
      "14587/14587 [==============================] - 2s 168us/step - loss: 1362.3551 - mean_absolute_error: 1362.3551\n",
      "Epoch 81/100\n",
      "14587/14587 [==============================] - 2s 169us/step - loss: 1359.7269 - mean_absolute_error: 1359.7269\n",
      "Epoch 82/100\n",
      "14587/14587 [==============================] - 2s 168us/step - loss: 1349.6429 - mean_absolute_error: 1349.6429\n",
      "Epoch 83/100\n",
      "14587/14587 [==============================] - 2s 168us/step - loss: 1341.6614 - mean_absolute_error: 1341.6614\n",
      "Epoch 84/100\n",
      "14587/14587 [==============================] - 2s 168us/step - loss: 1335.8046 - mean_absolute_error: 1335.8046\n",
      "Epoch 85/100\n",
      "14587/14587 [==============================] - 2s 167us/step - loss: 1320.6301 - mean_absolute_error: 1320.6301\n",
      "Epoch 86/100\n",
      "14587/14587 [==============================] - 2s 168us/step - loss: 1322.2042 - mean_absolute_error: 1322.2042\n",
      "Epoch 87/100\n",
      "14587/14587 [==============================] - 3s 172us/step - loss: 1315.5581 - mean_absolute_error: 1315.5581\n",
      "Epoch 88/100\n",
      "14587/14587 [==============================] - 2s 168us/step - loss: 1308.8252 - mean_absolute_error: 1308.8252\n",
      "Epoch 89/100\n",
      "14587/14587 [==============================] - 2s 166us/step - loss: 1296.6239 - mean_absolute_error: 1296.6239\n",
      "Epoch 90/100\n",
      "14587/14587 [==============================] - 2s 168us/step - loss: 1289.3237 - mean_absolute_error: 1289.3237\n",
      "Epoch 91/100\n",
      "14587/14587 [==============================] - 2s 169us/step - loss: 1285.1359 - mean_absolute_error: 1285.1359\n",
      "Epoch 92/100\n",
      "14587/14587 [==============================] - 2s 168us/step - loss: 1278.8678 - mean_absolute_error: 1278.8678\n",
      "Epoch 93/100\n",
      "14587/14587 [==============================] - 2s 167us/step - loss: 1271.9931 - mean_absolute_error: 1271.9931\n",
      "Epoch 94/100\n",
      "14587/14587 [==============================] - 2s 167us/step - loss: 1260.3570 - mean_absolute_error: 1260.3570\n",
      "Epoch 95/100\n",
      "14587/14587 [==============================] - 3s 172us/step - loss: 1261.7916 - mean_absolute_error: 1261.7916\n",
      "Epoch 96/100\n",
      "14587/14587 [==============================] - 2s 169us/step - loss: 1249.4303 - mean_absolute_error: 1249.4303\n",
      "Epoch 97/100\n",
      "14587/14587 [==============================] - 2s 168us/step - loss: 1247.1281 - mean_absolute_error: 1247.1281\n",
      "Epoch 98/100\n",
      "14587/14587 [==============================] - 2s 168us/step - loss: 1236.6962 - mean_absolute_error: 1236.6962\n",
      "Epoch 99/100\n",
      "14587/14587 [==============================] - 2s 168us/step - loss: 1238.2971 - mean_absolute_error: 1238.2971\n",
      "Epoch 100/100\n",
      "14587/14587 [==============================] - 2s 168us/step - loss: 1223.0212 - mean_absolute_error: 1223.0212\n"
     ]
    },
    {
     "data": {
      "text/plain": [
       "<keras.callbacks.History at 0x12e953d10>"
      ]
     },
     "execution_count": 48,
     "metadata": {},
     "output_type": "execute_result"
    }
   ],
   "source": [
    "model = Sequential()\n",
    "\n",
    "# The Input Layer :\n",
    "model.add(Dense(128, kernel_initializer='normal',input_dim = X_train.shape[1], activation='relu'))\n",
    "\n",
    "# The Hidden Layers :\n",
    "model.add(Dense(256, kernel_initializer='normal',activation='relu'))\n",
    "model.add(Dense(256, kernel_initializer='normal',activation='relu'))\n",
    "model.add(Dense(256, kernel_initializer='normal',activation='relu'))\n",
    "\n",
    "# The Output Layer :\n",
    "model.add(Dense(1, kernel_initializer='normal',activation='linear'))\n",
    "\n",
    "# Compile the network :\n",
    "model.compile(loss='mean_absolute_error', optimizer='adam', metrics=['mean_absolute_error'])\n",
    "model.fit(X_train, y_train, batch_size = 10, epochs = 100)"
   ]
  },
  {
   "cell_type": "code",
   "execution_count": 49,
   "metadata": {
    "collapsed": true
   },
   "outputs": [],
   "source": [
    "y_pred = model.predict(X_test)"
   ]
  },
  {
   "cell_type": "code",
   "execution_count": 50,
   "metadata": {},
   "outputs": [
    {
     "data": {
      "image/png": "[encoded data removed]",
      "text/plain": [
       "<matplotlib.figure.Figure at 0x12e9e2490>"
      ]
     },
     "metadata": {},
     "output_type": "display_data"
    }
   ],
   "source": [
    "plt.plot(y_test, color = 'red', label = 'Real data')\n",
    "plt.plot(y_pred, color = 'blue', label = 'Predicted data')\n",
    "plt.title('Prediction')\n",
    "plt.legend()\n",
    "plt.show()"
   ]
  },
  {
   "cell_type": "markdown",
   "metadata": {},
   "source": [
    "# Scaling the data"
   ]
  },
  {
   "cell_type": "code",
   "execution_count": 51,
   "metadata": {
    "collapsed": true
   },
   "outputs": [],
   "source": [
    "from sklearn.preprocessing import StandardScaler\n",
    "\n",
    "sc = StandardScaler()  \n",
    "X_train = sc.fit_transform(X_train)  \n",
    "X_test = sc.transform(X_test)  "
   ]
  },
  {
   "cell_type": "markdown",
   "metadata": {},
   "source": [
    "# Gradient Boosting With scaled data"
   ]
  },
  {
   "cell_type": "code",
   "execution_count": 52,
   "metadata": {
    "collapsed": true
   },
   "outputs": [],
   "source": [
    "gbm = GradientBoostingRegressor(n_estimators=100)\n",
    "gbm.fit(X_train, y_train)\n",
    "predictions = gbm.predict(X_test)"
   ]
  },
  {
   "cell_type": "code",
   "execution_count": 53,
   "metadata": {},
   "outputs": [
    {
     "name": "stdout",
     "output_type": "stream",
     "text": [
      "[0.05463298 0.1259155  0.60375797 0.04741059 0.12786941 0.04041356]\n",
      "R-squared for Train: 0.41\n",
      "R-squared for Test: 0.33\n"
     ]
    }
   ],
   "source": [
    "print gbm.feature_importances_\n",
    "print \"R-squared for Train: %.2f\" %gbm.score(X_train, y_train) \n",
    "print \"R-squared for Test: %.2f\" %gbm.score(X_test, y_test) "
   ]
  },
  {
   "cell_type": "code",
   "execution_count": 54,
   "metadata": {},
   "outputs": [
    {
     "name": "stdout",
     "output_type": "stream",
     "text": [
      "Best Estimator learned through GridSearch\n",
      "GradientBoostingRegressor(alpha=0.9, criterion='friedman_mse', init=None,\n",
      "             learning_rate=0.1, loss='ls', max_depth=6, max_features=1.0,\n",
      "             max_leaf_nodes=None, min_impurity_decrease=0.0,\n",
      "             min_impurity_split=None, min_samples_leaf=3,\n",
      "             min_samples_split=2, min_weight_fraction_leaf=0.0,\n",
      "             n_estimators=100, n_iter_no_change=None, presort='auto',\n",
      "             random_state=None, subsample=1.0, tol=0.0001,\n",
      "             validation_fraction=0.1, verbose=0, warm_start=False)\n"
     ]
    }
   ],
   "source": [
    "cv,best_est=GradientBooster(param_grid, n_jobs)"
   ]
  },
  {
   "cell_type": "code",
   "execution_count": 55,
   "metadata": {},
   "outputs": [
    {
     "name": "stdout",
     "output_type": "stream",
     "text": [
      "Best Estimator Parameters\n",
      "---------------------------\n",
      "n_estimators: 100\n",
      "max_depth: 6\n",
      "Learning Rate: 0.1\n",
      "min_samples_leaf: 3\n",
      "max_features: 1.0\n",
      "\n",
      "Train R-squared: 0.62\n"
     ]
    }
   ],
   "source": [
    "print \"Best Estimator Parameters\" \n",
    "print\"---------------------------\" \n",
    "print \"n_estimators: %d\" %best_est.n_estimators \n",
    "print \"max_depth: %d\" %best_est.max_depth \n",
    "print \"Learning Rate: %.1f\" %best_est.learning_rate \n",
    "print \"min_samples_leaf: %d\" %best_est.min_samples_leaf \n",
    "print \"max_features: %.1f\" %best_est.max_features \n",
    "print\n",
    "print \"Train R-squared: %.2f\" %best_est.score(X_train,y_train) "
   ]
  },
  {
   "cell_type": "code",
   "execution_count": 56,
   "metadata": {},
   "outputs": [
    {
     "name": "stdout",
     "output_type": "stream",
     "text": [
      "Train R-squared: 0.62\n",
      "Test R-squared: 0.48\n"
     ]
    }
   ],
   "source": [
    "estimator = best_est \n",
    "#Re-fitting to the train set \n",
    "estimator.fit(X_train, y_train) \n",
    "#Calculating train/test scores - R-squared value \n",
    "print \"Train R-squared: %.2f\" %estimator.score(X_train, y_train) \n",
    "print \"Test R-squared: %.2f\" %estimator.score(X_test, y_test) "
   ]
  },
  {
   "cell_type": "markdown",
   "metadata": {},
   "source": [
    "# Random Forest With Scaled data"
   ]
  },
  {
   "cell_type": "code",
   "execution_count": 57,
   "metadata": {},
   "outputs": [
    {
     "name": "stderr",
     "output_type": "stream",
     "text": [
      "/Users/gregdhillon/anaconda2/lib/python2.7/site-packages/ipykernel_launcher.py:4: DataConversionWarning: A column-vector y was passed when a 1d array was expected. Please change the shape of y to (n_samples,), for example using ravel().\n",
      "  after removing the cwd from sys.path.\n"
     ]
    },
    {
     "name": "stdout",
     "output_type": "stream",
     "text": [
      "Number of Trees: 10.00\n",
      "Mean Absolute Error: 1322.48\n",
      "Mean Squared Error: 3801153.99\n",
      "Root Mean Squared Error: 1949.65\n",
      "\n",
      "Number of Trees: 20.00\n",
      "Mean Absolute Error: 1283.15\n",
      "Mean Squared Error: 3500883.33\n",
      "Root Mean Squared Error: 1871.06\n",
      "\n",
      "Number of Trees: 40.00\n",
      "Mean Absolute Error: 1265.97\n",
      "Mean Squared Error: 3393601.11\n",
      "Root Mean Squared Error: 1842.17\n",
      "\n",
      "Number of Trees: 60.00\n",
      "Mean Absolute Error: 1259.73\n",
      "Mean Squared Error: 3398569.02\n",
      "Root Mean Squared Error: 1843.52\n",
      "\n",
      "Number of Trees: 80.00\n",
      "Mean Absolute Error: 1254.50\n",
      "Mean Squared Error: 3347569.92\n",
      "Root Mean Squared Error: 1829.64\n",
      "\n",
      "Number of Trees: 100.00\n",
      "Mean Absolute Error: 1249.09\n",
      "Mean Squared Error: 3326095.94\n",
      "Root Mean Squared Error: 1823.76\n",
      "\n",
      "Number of Trees: 120.00\n",
      "Mean Absolute Error: 1248.55\n",
      "Mean Squared Error: 3334657.43\n",
      "Root Mean Squared Error: 1826.10\n",
      "\n",
      "Number of Trees: 140.00\n",
      "Mean Absolute Error: 1244.06\n",
      "Mean Squared Error: 3306309.74\n",
      "Root Mean Squared Error: 1818.33\n",
      "\n",
      "Number of Trees: 160.00\n",
      "Mean Absolute Error: 1244.44\n",
      "Mean Squared Error: 3310139.79\n",
      "Root Mean Squared Error: 1819.38\n",
      "\n",
      "Number of Trees: 180.00\n",
      "Mean Absolute Error: 1246.01\n",
      "Mean Squared Error: 3304428.21\n",
      "Root Mean Squared Error: 1817.81\n",
      "\n",
      "Number of Trees: 200.00\n",
      "Mean Absolute Error: 1245.06\n",
      "Mean Squared Error: 3293434.67\n",
      "Root Mean Squared Error: 1814.78\n",
      "\n",
      "Number of Trees: 300.00\n",
      "Mean Absolute Error: 1242.51\n",
      "Mean Squared Error: 3275456.52\n",
      "Root Mean Squared Error: 1809.82\n",
      "\n"
     ]
    }
   ],
   "source": [
    "num_trees = [10, 20, 40, 60, 80, 100, 120, 140, 160, 180, 200, 300]\n",
    "for tree in num_trees:\n",
    "    RandomForest(tree)"
   ]
  },
  {
   "cell_type": "markdown",
   "metadata": {
    "collapsed": true
   },
   "source": [
    "# Neural Network with Scaled Data"
   ]
  },
  {
   "cell_type": "code",
   "execution_count": 58,
   "metadata": {},
   "outputs": [
    {
     "name": "stdout",
     "output_type": "stream",
     "text": [
      "Epoch 1/100\n",
      "14587/14587 [==============================] - 3s 196us/step - loss: 1223.5925 - mean_absolute_error: 1223.5925\n",
      "Epoch 2/100\n",
      "14587/14587 [==============================] - 3s 173us/step - loss: 1213.6635 - mean_absolute_error: 1213.6635\n",
      "Epoch 3/100\n",
      "14587/14587 [==============================] - 3s 173us/step - loss: 1211.6069 - mean_absolute_error: 1211.6069\n",
      "Epoch 4/100\n",
      "14587/14587 [==============================] - 3s 175us/step - loss: 1201.3830 - mean_absolute_error: 1201.3830 2s -\n",
      "Epoch 5/100\n",
      "14587/14587 [==============================] - 3s 174us/step - loss: 1193.7958 - mean_absolute_error: 1193.7958\n",
      "Epoch 6/100\n",
      "14587/14587 [==============================] - 3s 174us/step - loss: 1186.5893 - mean_absolute_error: 1186.5893\n",
      "Epoch 7/100\n",
      "14587/14587 [==============================] - 3s 176us/step - loss: 1185.6584 - mean_absolute_error: 1185.6584\n",
      "Epoch 8/100\n",
      "14587/14587 [==============================] - 3s 175us/step - loss: 1182.2203 - mean_absolute_error: 1182.2203\n",
      "Epoch 9/100\n",
      "14587/14587 [==============================] - 3s 173us/step - loss: 1171.9134 - mean_absolute_error: 1171.9134\n",
      "Epoch 10/100\n",
      "14587/14587 [==============================] - 3s 173us/step - loss: 1164.9520 - mean_absolute_error: 1164.9520\n",
      "Epoch 11/100\n",
      "14587/14587 [==============================] - 3s 174us/step - loss: 1159.9911 - mean_absolute_error: 1159.9911\n",
      "Epoch 12/100\n",
      "14587/14587 [==============================] - 3s 174us/step - loss: 1151.8935 - mean_absolute_error: 1151.8935\n",
      "Epoch 13/100\n",
      "14587/14587 [==============================] - 3s 175us/step - loss: 1153.7502 - mean_absolute_error: 1153.7502\n",
      "Epoch 14/100\n",
      "14587/14587 [==============================] - 3s 174us/step - loss: 1143.2647 - mean_absolute_error: 1143.2647\n",
      "Epoch 15/100\n",
      "14587/14587 [==============================] - 3s 181us/step - loss: 1135.5434 - mean_absolute_error: 1135.5434\n",
      "Epoch 16/100\n",
      "14587/14587 [==============================] - 3s 177us/step - loss: 1129.4944 - mean_absolute_error: 1129.4944\n",
      "Epoch 17/100\n",
      "14587/14587 [==============================] - 3s 182us/step - loss: 1126.2064 - mean_absolute_error: 1126.2064\n",
      "Epoch 18/100\n",
      "14587/14587 [==============================] - 3s 181us/step - loss: 1119.9803 - mean_absolute_error: 1119.9803\n",
      "Epoch 19/100\n",
      "14587/14587 [==============================] - 3s 177us/step - loss: 1115.5074 - mean_absolute_error: 1115.5074\n",
      "Epoch 20/100\n",
      "14587/14587 [==============================] - 3s 177us/step - loss: 1110.7844 - mean_absolute_error: 1110.7844\n",
      "Epoch 21/100\n",
      "14587/14587 [==============================] - 3s 176us/step - loss: 1104.3857 - mean_absolute_error: 1104.3857\n",
      "Epoch 22/100\n",
      "14587/14587 [==============================] - 3s 179us/step - loss: 1102.1572 - mean_absolute_error: 1102.1572\n",
      "Epoch 23/100\n",
      "14587/14587 [==============================] - 3s 183us/step - loss: 1090.7540 - mean_absolute_error: 1090.7540\n",
      "Epoch 24/100\n",
      "14587/14587 [==============================] - 3s 176us/step - loss: 1084.0527 - mean_absolute_error: 1084.0527\n",
      "Epoch 25/100\n",
      "14587/14587 [==============================] - 3s 176us/step - loss: 1082.0147 - mean_absolute_error: 1082.0147\n",
      "Epoch 26/100\n",
      "14587/14587 [==============================] - 3s 176us/step - loss: 1080.9910 - mean_absolute_error: 1080.9910\n",
      "Epoch 27/100\n",
      "14587/14587 [==============================] - 3s 177us/step - loss: 1072.6310 - mean_absolute_error: 1072.6310\n",
      "Epoch 28/100\n",
      "14587/14587 [==============================] - 3s 176us/step - loss: 1066.6132 - mean_absolute_error: 1066.6132s \n",
      "Epoch 29/100\n",
      "14587/14587 [==============================] - 3s 174us/step - loss: 1061.2098 - mean_absolute_error: 1061.2098\n",
      "Epoch 30/100\n",
      "14587/14587 [==============================] - 3s 179us/step - loss: 1058.8174 - mean_absolute_error: 1058.8174\n",
      "Epoch 31/100\n",
      "14587/14587 [==============================] - 3s 178us/step - loss: 1051.5508 - mean_absolute_error: 1051.5508\n",
      "Epoch 32/100\n",
      "14587/14587 [==============================] - 3s 174us/step - loss: 1047.3520 - mean_absolute_error: 1047.3520\n",
      "Epoch 33/100\n",
      "14587/14587 [==============================] - 3s 173us/step - loss: 1042.2496 - mean_absolute_error: 1042.2496\n",
      "Epoch 34/100\n",
      "14587/14587 [==============================] - 3s 174us/step - loss: 1038.0241 - mean_absolute_error: 1038.0241\n",
      "Epoch 35/100\n",
      "14587/14587 [==============================] - 3s 174us/step - loss: 1026.9920 - mean_absolute_error: 1026.9920\n",
      "Epoch 36/100\n",
      "14587/14587 [==============================] - 3s 174us/step - loss: 1030.1943 - mean_absolute_error: 1030.1943\n",
      "Epoch 37/100\n",
      "14587/14587 [==============================] - 3s 174us/step - loss: 1025.4808 - mean_absolute_error: 1025.4808\n",
      "Epoch 38/100\n",
      "14587/14587 [==============================] - 3s 177us/step - loss: 1018.7970 - mean_absolute_error: 1018.7970 2s - \n",
      "Epoch 39/100\n",
      "14587/14587 [==============================] - 3s 177us/step - loss: 1007.5564 - mean_absolute_error: 1007.5564\n",
      "Epoch 40/100\n",
      "14587/14587 [==============================] - 3s 173us/step - loss: 1010.7813 - mean_absolute_error: 1010.7813\n",
      "Epoch 41/100\n",
      "14587/14587 [==============================] - 3s 175us/step - loss: 996.4737 - mean_absolute_error: 996.4737\n",
      "Epoch 42/100\n",
      "14587/14587 [==============================] - 3s 174us/step - loss: 994.4690 - mean_absolute_error: 994.4690\n",
      "Epoch 43/100\n",
      "14587/14587 [==============================] - 3s 174us/step - loss: 991.8484 - mean_absolute_error: 991.8484\n",
      "Epoch 44/100\n",
      "14587/14587 [==============================] - 3s 174us/step - loss: 989.2673 - mean_absolute_error: 989.2673\n",
      "Epoch 45/100\n",
      "14587/14587 [==============================] - 3s 173us/step - loss: 983.2275 - mean_absolute_error: 983.2275\n",
      "Epoch 46/100\n",
      "14587/14587 [==============================] - 3s 178us/step - loss: 978.2784 - mean_absolute_error: 978.2784\n",
      "Epoch 47/100\n",
      "14587/14587 [==============================] - 3s 178us/step - loss: 974.1387 - mean_absolute_error: 974.1387\n",
      "Epoch 48/100\n",
      "14587/14587 [==============================] - 3s 174us/step - loss: 972.4245 - mean_absolute_error: 972.4245\n",
      "Epoch 49/100\n",
      "14587/14587 [==============================] - 3s 174us/step - loss: 962.0161 - mean_absolute_error: 962.0161\n",
      "Epoch 50/100\n",
      "14587/14587 [==============================] - 3s 176us/step - loss: 964.6561 - mean_absolute_error: 964.6561\n",
      "Epoch 51/100\n",
      "14587/14587 [==============================] - 3s 174us/step - loss: 957.6795 - mean_absolute_error: 957.6795\n",
      "Epoch 52/100\n",
      "14587/14587 [==============================] - 3s 173us/step - loss: 952.6855 - mean_absolute_error: 952.6855A: 2s - l\n",
      "Epoch 53/100\n",
      "14587/14587 [==============================] - 3s 175us/step - loss: 948.0508 - mean_absolute_error: 948.0508\n",
      "Epoch 54/100\n",
      "14587/14587 [==============================] - 3s 178us/step - loss: 946.9092 - mean_absolute_error: 946.9092\n",
      "Epoch 55/100\n",
      "14587/14587 [==============================] - 3s 176us/step - loss: 941.1089 - mean_absolute_error: 941.1089\n",
      "Epoch 56/100\n",
      "14587/14587 [==============================] - 3s 174us/step - loss: 936.6227 - mean_absolute_error: 936.6227\n",
      "Epoch 57/100\n",
      "14587/14587 [==============================] - 3s 174us/step - loss: 939.1435 - mean_absolute_error: 939.1435\n",
      "Epoch 58/100\n",
      "14587/14587 [==============================] - 3s 176us/step - loss: 924.5651 - mean_absolute_error: 924.5651\n",
      "Epoch 59/100\n",
      "14587/14587 [==============================] - 3s 175us/step - loss: 926.6986 - mean_absolute_error: 926.6986\n",
      "Epoch 60/100\n",
      "14587/14587 [==============================] - 3s 174us/step - loss: 916.7796 - mean_absolute_error: 916.7796\n",
      "Epoch 61/100\n",
      "14587/14587 [==============================] - 3s 176us/step - loss: 916.5946 - mean_absolute_error: 916.5946\n",
      "Epoch 62/100\n",
      "14587/14587 [==============================] - 3s 180us/step - loss: 913.2686 - mean_absolute_error: 913.2686\n",
      "Epoch 63/100\n",
      "14587/14587 [==============================] - 3s 176us/step - loss: 910.9868 - mean_absolute_error: 910.9868\n",
      "Epoch 64/100\n",
      "14587/14587 [==============================] - 3s 175us/step - loss: 903.9940 - mean_absolute_error: 903.9940\n",
      "Epoch 65/100\n",
      "14587/14587 [==============================] - 3s 175us/step - loss: 901.8617 - mean_absolute_error: 901.8617\n",
      "Epoch 66/100\n",
      "14587/14587 [==============================] - ETA: 0s - loss: 896.1533 - mean_absolute_error: 896.153 - 3s 174us/step - loss: 898.5844 - mean_absolute_error: 898.5844\n",
      "Epoch 67/100\n",
      "14587/14587 [==============================] - 3s 174us/step - loss: 897.4528 - mean_absolute_error: 897.4528\n",
      "Epoch 68/100\n",
      "14587/14587 [==============================] - 3s 174us/step - loss: 888.1413 - mean_absolute_error: 888.1413\n",
      "Epoch 69/100\n",
      "14587/14587 [==============================] - 3s 175us/step - loss: 888.3405 - mean_absolute_error: 888.3405\n",
      "Epoch 70/100\n",
      "14587/14587 [==============================] - 3s 177us/step - loss: 882.8092 - mean_absolute_error: 882.8092\n",
      "Epoch 71/100\n",
      "14587/14587 [==============================] - 3s 175us/step - loss: 878.3508 - mean_absolute_error: 878.3508\n",
      "Epoch 72/100\n",
      "14587/14587 [==============================] - 3s 173us/step - loss: 874.6728 - mean_absolute_error: 874.6728\n",
      "Epoch 73/100\n",
      "14587/14587 [==============================] - 3s 173us/step - loss: 865.0532 - mean_absolute_error: 865.0532\n",
      "Epoch 74/100\n",
      "14587/14587 [==============================] - 3s 174us/step - loss: 865.9603 - mean_absolute_error: 865.9603\n",
      "Epoch 75/100\n",
      "14587/14587 [==============================] - 3s 174us/step - loss: 867.2877 - mean_absolute_error: 867.2877\n",
      "Epoch 76/100\n",
      "14587/14587 [==============================] - 3s 174us/step - loss: 857.8534 - mean_absolute_error: 857.8534\n",
      "Epoch 77/100\n",
      "14587/14587 [==============================] - 3s 176us/step - loss: 855.7130 - mean_absolute_error: 855.7130\n",
      "Epoch 78/100\n",
      "14587/14587 [==============================] - 3s 178us/step - loss: 852.8397 - mean_absolute_error: 852.8397\n",
      "Epoch 79/100\n",
      "14587/14587 [==============================] - 3s 173us/step - loss: 852.9175 - mean_absolute_error: 852.9175\n",
      "Epoch 80/100\n",
      "14587/14587 [==============================] - 3s 173us/step - loss: 847.5938 - mean_absolute_error: 847.5938\n",
      "Epoch 81/100\n",
      "14587/14587 [==============================] - 3s 173us/step - loss: 845.2262 - mean_absolute_error: 845.2262\n",
      "Epoch 82/100\n",
      "14587/14587 [==============================] - 3s 173us/step - loss: 846.1027 - mean_absolute_error: 846.1027\n",
      "Epoch 83/100\n",
      "14587/14587 [==============================] - 3s 174us/step - loss: 837.2103 - mean_absolute_error: 837.2103\n",
      "Epoch 84/100\n",
      "14587/14587 [==============================] - 3s 174us/step - loss: 835.2450 - mean_absolute_error: 835.2450\n",
      "Epoch 85/100\n",
      "14587/14587 [==============================] - 3s 177us/step - loss: 829.2372 - mean_absolute_error: 829.2372\n",
      "Epoch 86/100\n",
      "14587/14587 [==============================] - 3s 176us/step - loss: 836.1698 - mean_absolute_error: 836.1698\n",
      "Epoch 87/100\n",
      "14587/14587 [==============================] - 3s 174us/step - loss: 829.9828 - mean_absolute_error: 829.9828\n",
      "Epoch 88/100\n",
      "14587/14587 [==============================] - 3s 174us/step - loss: 821.7860 - mean_absolute_error: 821.7860\n",
      "Epoch 89/100\n",
      "14587/14587 [==============================] - 3s 174us/step - loss: 817.1071 - mean_absolute_error: 817.1071\n",
      "Epoch 90/100\n",
      "14587/14587 [==============================] - 3s 173us/step - loss: 815.6317 - mean_absolute_error: 815.6317\n",
      "Epoch 91/100\n",
      "14587/14587 [==============================] - 3s 174us/step - loss: 812.2722 - mean_absolute_error: 812.2722\n",
      "Epoch 92/100\n",
      "14587/14587 [==============================] - 3s 174us/step - loss: 814.4228 - mean_absolute_error: 814.4228\n",
      "Epoch 93/100\n",
      "14587/14587 [==============================] - 3s 177us/step - loss: 808.4809 - mean_absolute_error: 808.4809\n",
      "Epoch 94/100\n",
      "14587/14587 [==============================] - 3s 176us/step - loss: 806.5194 - mean_absolute_error: 806.5194\n",
      "Epoch 95/100\n",
      "14587/14587 [==============================] - 3s 174us/step - loss: 792.6074 - mean_absolute_error: 792.6074\n",
      "Epoch 96/100\n",
      "14587/14587 [==============================] - 3s 174us/step - loss: 794.6253 - mean_absolute_error: 794.6253\n",
      "Epoch 97/100\n",
      "14587/14587 [==============================] - 3s 174us/step - loss: 793.2352 - mean_absolute_error: 793.2352\n",
      "Epoch 98/100\n",
      "14587/14587 [==============================] - 3s 174us/step - loss: 788.2275 - mean_absolute_error: 788.2275\n",
      "Epoch 99/100\n",
      "14587/14587 [==============================] - 3s 174us/step - loss: 787.6821 - mean_absolute_error: 787.6821\n",
      "Epoch 100/100\n",
      "14587/14587 [==============================] - 3s 174us/step - loss: 792.0351 - mean_absolute_error: 792.0351\n"
     ]
    },
    {
     "data": {
      "text/plain": [
       "<keras.callbacks.History at 0x12ea0e1d0>"
      ]
     },
     "execution_count": 58,
     "metadata": {},
     "output_type": "execute_result"
    }
   ],
   "source": [
    "model.compile(loss='mean_absolute_error', optimizer='adam', metrics=['mean_absolute_error'])\n",
    "model.fit(X_train, y_train, batch_size = 10, epochs = 100)"
   ]
  },
  {
   "cell_type": "code",
   "execution_count": 59,
   "metadata": {
    "collapsed": true
   },
   "outputs": [],
   "source": [
    "y_pred = model.predict(X_test)"
   ]
  },
  {
   "cell_type": "code",
   "execution_count": 60,
   "metadata": {},
   "outputs": [
    {
     "data": {
      "image/png": "[encoded data removed]",
      "text/plain": [
       "<matplotlib.figure.Figure at 0x1318738d0>"
      ]
     },
     "metadata": {},
     "output_type": "display_data"
    }
   ],
   "source": [
    "plt.plot(y_test, color = 'red', label = 'Real data')\n",
    "plt.plot(y_pred, color = 'blue', label = 'Predicted data')\n",
    "plt.title('Prediction')\n",
    "plt.legend()\n",
    "plt.show()"
   ]
  },
  {
   "cell_type": "code",
   "execution_count": null,
   "metadata": {
    "collapsed": true
   },
   "outputs": [],
   "source": []
  }
 ],
 "metadata": {
  "kernelspec": {
   "display_name": "Python 2",
   "language": "python",
   "name": "python2"
  },
  "language_info": {
   "codemirror_mode": {
    "name": "ipython",
    "version": 2
   },
   "file_extension": ".py",
   "mimetype": "text/x-python",
   "name": "python",
   "nbconvert_exporter": "python",
   "pygments_lexer": "ipython2",
   "version": "2.7.13"
  }
 },
 "nbformat": 4,
 "nbformat_minor": 2
}
