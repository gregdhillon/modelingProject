{
 "cells": [
  {
   "cell_type": "code",
   "execution_count": 5,
   "metadata": {
    "collapsed": true
   },
   "outputs": [],
   "source": [
    "import pandas as pd\n",
    "import sys\n",
    "import numpy as np\n",
    "import matplotlib.pyplot as plt\n",
    "from sklearn import linear_model\n",
    "import seaborn as sns\n",
    "%matplotlib inline"
   ]
  },
  {
   "cell_type": "code",
   "execution_count": 64,
   "metadata": {},
   "outputs": [],
   "source": [
    "data2009 = pd.read_csv('/Users/gregdhillon/modelingProject/FINISHED_DATA/metadata_Income/Data2009.csv')\n",
    "data2010 = pd.read_csv('/Users/gregdhillon/modelingProject/FINISHED_DATA/metadata_Income/Data2010.csv')\n",
    "data2011 = pd.read_csv('/Users/gregdhillon/modelingProject/FINISHED_DATA/metadata_Income/Data2011.csv')\n",
    "data2012 = pd.read_csv('/Users/gregdhillon/modelingProject/FINISHED_DATA/metadata_Income/Data2012.csv')\n",
    "data2013 = pd.read_csv('/Users/gregdhillon/modelingProject/FINISHED_DATA/metadata_Income/Data2013.csv')\n",
    "data2014 = pd.read_csv('/Users/gregdhillon/modelingProject/FINISHED_DATA/metadata_Income/Data2014.csv')"
   ]
  },
  {
   "cell_type": "code",
   "execution_count": 65,
   "metadata": {
    "collapsed": true
   },
   "outputs": [],
   "source": [
    "frames = [data2009, data2010, data2011, data2012, data2013]\n",
    "model_data = pd.concat(frames, axis=0, join='outer',copy=True)"
   ]
  },
  {
   "cell_type": "code",
   "execution_count": 66,
   "metadata": {
    "collapsed": true
   },
   "outputs": [],
   "source": [
    "def drop(df):\n",
    "    df = df.replace([np.inf, -np.inf], np.nan)\n",
    "    df = df.dropna()"
   ]
  },
  {
   "cell_type": "code",
   "execution_count": 67,
   "metadata": {
    "collapsed": true
   },
   "outputs": [],
   "source": [
    "drop(model_data)\n",
    "drop(data2014)"
   ]
  },
  {
   "cell_type": "code",
   "execution_count": 68,
   "metadata": {
    "collapsed": true
   },
   "outputs": [],
   "source": [
    "model_data = model_data[np.isfinite(model_data['Crime_rate'])]\n",
    "data2014 = data2014[np.isfinite(data2014['Crime_rate'])]"
   ]
  },
  {
   "cell_type": "code",
   "execution_count": 69,
   "metadata": {
    "collapsed": true
   },
   "outputs": [],
   "source": [
    "import sklearn as sk\n",
    "categories = ['Cardiovascular diseases',\n",
    "       'Chronic respiratory diseases', 'HIV/AIDS and tuberculosis',\n",
    "       'Nutritional deficiencies', 'Age', 'Unemployment_rate', 'Median income']\n",
    "X_train = model_data[categories]\n",
    "y_train = model_data[['Crime_rate']]\n",
    "X_test = data2014[categories]\n",
    "y_test = data2014[['Crime_rate']]\n",
    "#X_train, X_test, y_train, y_test = sk.model_selection.train_test_split(X, Y, test_size=0.1, random_state=101)"
   ]
  },
  {
   "cell_type": "markdown",
   "metadata": {},
   "source": [
    "# Gradient Boosting"
   ]
  },
  {
   "cell_type": "code",
   "execution_count": 17,
   "metadata": {
    "collapsed": true
   },
   "outputs": [],
   "source": [
    "from sklearn.ensemble import GradientBoostingRegressor\n",
    "from sklearn.model_selection import GridSearchCV\n",
    "from sklearn.model_selection import ShuffleSplit, train_test_split\n",
    "from sklearn import metrics"
   ]
  },
  {
   "cell_type": "code",
   "execution_count": 18,
   "metadata": {},
   "outputs": [
    {
     "name": "stderr",
     "output_type": "stream",
     "text": [
      "/Users/gregdhillon/anaconda2/lib/python2.7/site-packages/sklearn/utils/validation.py:761: DataConversionWarning: A column-vector y was passed when a 1d array was expected. Please change the shape of y to (n_samples, ), for example using ravel().\n",
      "  y = column_or_1d(y, warn=True)\n"
     ]
    }
   ],
   "source": [
    "gbm = GradientBoostingRegressor(n_estimators=100)\n",
    "gbm.fit(X_train, y_train)\n",
    "predictions = gbm.predict(X_test)"
   ]
  },
  {
   "cell_type": "code",
   "execution_count": 19,
   "metadata": {},
   "outputs": [
    {
     "name": "stdout",
     "output_type": "stream",
     "text": [
      "[0.04553946 0.06898778 0.46583109 0.09046643 0.13226683 0.02477545\n",
      " 0.17213296]\n",
      "R-squared for Train: 0.68\n",
      "R-squared for Test: 0.49\n"
     ]
    }
   ],
   "source": [
    "print gbm.feature_importances_\n",
    "print \"R-squared for Train: %.2f\" %gbm.score(X_train, y_train) \n",
    "print \"R-squared for Test: %.2f\" %gbm.score(X_test, y_test) "
   ]
  },
  {
   "cell_type": "code",
   "execution_count": 20,
   "metadata": {
    "collapsed": true
   },
   "outputs": [],
   "source": [
    "def GradientBooster(param_grid, n_jobs): \n",
    "    estimator = GradientBoostingRegressor() \n",
    "    cv = ShuffleSplit(X_train.shape[0], test_size=0.2)\n",
    "    classifier = GridSearchCV(estimator=estimator, cv=cv, param_grid=param_grid, n_jobs=n_jobs) \n",
    "    classifier.fit(X_train, y_train)\n",
    "    print \"Best Estimator learned through GridSearch\" \n",
    "    print classifier.best_estimator_ \n",
    "    return cv, classifier.best_estimator_"
   ]
  },
  {
   "cell_type": "code",
   "execution_count": 21,
   "metadata": {
    "collapsed": true
   },
   "outputs": [],
   "source": [
    "param_grid={'n_estimators':[100], \n",
    "            'learning_rate': [0.1],\n",
    "            'max_depth':[6], \n",
    "            'min_samples_leaf':[3], \n",
    "            'max_features':[1.0] } \n",
    "n_jobs=4 "
   ]
  },
  {
   "cell_type": "code",
   "execution_count": 22,
   "metadata": {},
   "outputs": [
    {
     "name": "stdout",
     "output_type": "stream",
     "text": [
      "Best Estimator learned through GridSearch\n",
      "GradientBoostingRegressor(alpha=0.9, criterion='friedman_mse', init=None,\n",
      "             learning_rate=0.1, loss='ls', max_depth=6, max_features=1.0,\n",
      "             max_leaf_nodes=None, min_impurity_decrease=0.0,\n",
      "             min_impurity_split=None, min_samples_leaf=3,\n",
      "             min_samples_split=2, min_weight_fraction_leaf=0.0,\n",
      "             n_estimators=100, n_iter_no_change=None, presort='auto',\n",
      "             random_state=None, subsample=1.0, tol=0.0001,\n",
      "             validation_fraction=0.1, verbose=0, warm_start=False)\n"
     ]
    }
   ],
   "source": [
    "cv,best_est=GradientBooster(param_grid, n_jobs)"
   ]
  },
  {
   "cell_type": "code",
   "execution_count": 23,
   "metadata": {},
   "outputs": [
    {
     "name": "stdout",
     "output_type": "stream",
     "text": [
      "Best Estimator Parameters\n",
      "---------------------------\n",
      "n_estimators: 100\n",
      "max_depth: 6\n",
      "Learning Rate: 0.1\n",
      "min_samples_leaf: 3\n",
      "max_features: 1.0\n",
      "\n",
      "Train R-squared: 0.89\n"
     ]
    }
   ],
   "source": [
    "print \"Best Estimator Parameters\" \n",
    "print\"---------------------------\" \n",
    "print \"n_estimators: %d\" %best_est.n_estimators \n",
    "print \"max_depth: %d\" %best_est.max_depth \n",
    "print \"Learning Rate: %.1f\" %best_est.learning_rate \n",
    "print \"min_samples_leaf: %d\" %best_est.min_samples_leaf \n",
    "print \"max_features: %.1f\" %best_est.max_features \n",
    "print\n",
    "print \"Train R-squared: %.2f\" %best_est.score(X_train,y_train) "
   ]
  },
  {
   "cell_type": "code",
   "execution_count": 24,
   "metadata": {},
   "outputs": [
    {
     "name": "stdout",
     "output_type": "stream",
     "text": [
      "Train R-squared: 0.89\n",
      "Test R-squared: 0.55\n"
     ]
    }
   ],
   "source": [
    "estimator = best_est \n",
    "#Re-fitting to the train set \n",
    "estimator.fit(X_train, y_train) \n",
    "#Calculating train/test scores - R-squared value \n",
    "print \"Train R-squared: %.2f\" %estimator.score(X_train, y_train) \n",
    "print \"Test R-squared: %.2f\" %estimator.score(X_test, y_test) "
   ]
  },
  {
   "cell_type": "markdown",
   "metadata": {},
   "source": [
    "# XGboost"
   ]
  },
  {
   "cell_type": "code",
   "execution_count": 79,
   "metadata": {},
   "outputs": [],
   "source": [
    "import xgboost\n",
    "from sklearn.metrics import explained_variance_score\n"
   ]
  },
  {
   "cell_type": "code",
   "execution_count": 83,
   "metadata": {
    "collapsed": true
   },
   "outputs": [],
   "source": [
    "def XGBooster(param_grid, n_jobs): \n",
    "    estimator = XGBRegressor() \n",
    "    cv = ShuffleSplit(X_train.shape[0], test_size=0.2)\n",
    "    classifier = GridSearchCV(estimator=estimator, cv=cv, param_grid=param_grid, n_jobs=n_jobs) \n",
    "    classifier.fit(X_train, y_train)\n",
    "    print \"Best Estimator learned through GridSearch\" \n",
    "    print classifier.best_estimator_ \n",
    "    return cv, classifier.best_estimator_"
   ]
  },
  {
   "cell_type": "code",
   "execution_count": 84,
   "metadata": {},
   "outputs": [
    {
     "name": "stdout",
     "output_type": "stream",
     "text": [
      "Best Estimator learned through GridSearch\n",
      "GradientBoostingRegressor(alpha=0.9, criterion='friedman_mse', init=None,\n",
      "             learning_rate=0.1, loss='ls', max_depth=6, max_features=1.0,\n",
      "             max_leaf_nodes=None, min_impurity_decrease=0.0,\n",
      "             min_impurity_split=None, min_samples_leaf=3,\n",
      "             min_samples_split=2, min_weight_fraction_leaf=0.0,\n",
      "             n_estimators=100, n_iter_no_change=None, presort='auto',\n",
      "             random_state=None, subsample=1.0, tol=0.0001,\n",
      "             validation_fraction=0.1, verbose=0, warm_start=False)\n"
     ]
    }
   ],
   "source": [
    "cv,best_est=GradientBooster(param_grid, n_jobs)"
   ]
  },
  {
   "cell_type": "code",
   "execution_count": 86,
   "metadata": {},
   "outputs": [
    {
     "name": "stdout",
     "output_type": "stream",
     "text": [
      "Best Estimator Parameters\n",
      "---------------------------\n",
      "n_estimators: 100\n",
      "max_depth: 6\n",
      "Learning Rate: 0.1\n",
      "min_samples_leaf: 3\n",
      "max_features: 1.0\n",
      "\n",
      "Train R-squared: 0.89\n"
     ]
    }
   ],
   "source": [
    "print \"Best Estimator Parameters\" \n",
    "print\"---------------------------\" \n",
    "print \"n_estimators: %d\" %best_est.n_estimators \n",
    "print \"max_depth: %d\" %best_est.max_depth \n",
    "print \"Learning Rate: %.1f\" %best_est.learning_rate \n",
    "print \"min_samples_leaf: %d\" %best_est.min_samples_leaf \n",
    "print \"max_features: %.1f\" %best_est.max_features \n",
    "print\n",
    "print \"Train R-squared: %.2f\" %best_est.score(X_train,y_train) "
   ]
  },
  {
   "cell_type": "code",
   "execution_count": 85,
   "metadata": {},
   "outputs": [
    {
     "name": "stdout",
     "output_type": "stream",
     "text": [
      "Train R-squared: 0.89\n",
      "Test R-squared: 0.55\n"
     ]
    }
   ],
   "source": [
    "estimator = best_est \n",
    "#Re-fitting to the train set \n",
    "estimator.fit(X_train, y_train) \n",
    "#Calculating train/test scores - R-squared value \n",
    "print \"Train R-squared: %.2f\" %estimator.score(X_train, y_train) \n",
    "print \"Test R-squared: %.2f\" %estimator.score(X_test, y_test) "
   ]
  },
  {
   "cell_type": "code",
   "execution_count": null,
   "metadata": {
    "collapsed": true
   },
   "outputs": [],
   "source": []
  },
  {
   "cell_type": "markdown",
   "metadata": {},
   "source": [
    "# Random Forest"
   ]
  },
  {
   "cell_type": "code",
   "execution_count": 25,
   "metadata": {
    "collapsed": true
   },
   "outputs": [],
   "source": [
    "from sklearn.ensemble import RandomForestRegressor\n",
    "def RandomForest(estimators):\n",
    "    regressor = RandomForestRegressor(n_estimators=estimators, random_state=0)  \n",
    "    regressor.fit(X_train, y_train)  \n",
    "    y_pred = regressor.predict(X_test)\n",
    "    print('Number of Trees: %.2f' %estimators)\n",
    "    print('Mean Absolute Error: %.2f' %metrics.mean_absolute_error(y_test, y_pred))  \n",
    "    print('Mean Squared Error: %.2f' %metrics.mean_squared_error(y_test, y_pred))  \n",
    "    print('Root Mean Squared Error: %.2f' %np.sqrt(metrics.mean_squared_error(y_test, y_pred)))  \n",
    "    print"
   ]
  },
  {
   "cell_type": "code",
   "execution_count": 26,
   "metadata": {},
   "outputs": [
    {
     "name": "stdout",
     "output_type": "stream",
     "text": [
      "Number of Trees: 10.00"
     ]
    },
    {
     "name": "stderr",
     "output_type": "stream",
     "text": [
      "/Users/gregdhillon/anaconda2/lib/python2.7/site-packages/ipykernel_launcher.py:4: DataConversionWarning: A column-vector y was passed when a 1d array was expected. Please change the shape of y to (n_samples,), for example using ravel().\n",
      "  after removing the cwd from sys.path.\n"
     ]
    },
    {
     "name": "stdout",
     "output_type": "stream",
     "text": [
      "\n",
      "Mean Absolute Error: 1199.93\n",
      "Mean Squared Error: 2808359.39\n",
      "Root Mean Squared Error: 1675.82\n",
      "\n",
      "Number of Trees: 20.00\n",
      "Mean Absolute Error: 1173.81\n",
      "Mean Squared Error: 2672289.61\n",
      "Root Mean Squared Error: 1634.71\n",
      "\n",
      "Number of Trees: 40.00\n",
      "Mean Absolute Error: 1148.27\n",
      "Mean Squared Error: 2591695.36\n",
      "Root Mean Squared Error: 1609.87\n",
      "\n",
      "Number of Trees: 60.00\n",
      "Mean Absolute Error: 1150.63\n",
      "Mean Squared Error: 2582260.78\n",
      "Root Mean Squared Error: 1606.94\n",
      "\n",
      "Number of Trees: 80.00\n",
      "Mean Absolute Error: 1145.03\n",
      "Mean Squared Error: 2577631.64\n",
      "Root Mean Squared Error: 1605.50\n",
      "\n",
      "Number of Trees: 100.00\n",
      "Mean Absolute Error: 1144.24\n",
      "Mean Squared Error: 2548473.08\n",
      "Root Mean Squared Error: 1596.39\n",
      "\n",
      "Number of Trees: 120.00\n",
      "Mean Absolute Error: 1144.38\n",
      "Mean Squared Error: 2550032.25\n",
      "Root Mean Squared Error: 1596.88\n",
      "\n",
      "Number of Trees: 140.00\n",
      "Mean Absolute Error: 1142.50\n",
      "Mean Squared Error: 2544516.20\n",
      "Root Mean Squared Error: 1595.15\n",
      "\n",
      "Number of Trees: 160.00\n",
      "Mean Absolute Error: 1141.31\n",
      "Mean Squared Error: 2526714.46\n",
      "Root Mean Squared Error: 1589.56\n",
      "\n",
      "Number of Trees: 180.00\n",
      "Mean Absolute Error: 1142.33\n",
      "Mean Squared Error: 2529711.06\n",
      "Root Mean Squared Error: 1590.51\n",
      "\n",
      "Number of Trees: 200.00\n",
      "Mean Absolute Error: 1141.26\n",
      "Mean Squared Error: 2523531.97\n",
      "Root Mean Squared Error: 1588.56\n",
      "\n",
      "Number of Trees: 300.00\n",
      "Mean Absolute Error: 1142.91\n",
      "Mean Squared Error: 2520881.22\n",
      "Root Mean Squared Error: 1587.73\n",
      "\n"
     ]
    }
   ],
   "source": [
    "num_trees = [10, 20, 40, 60, 80, 100, 120, 140, 160, 180, 200, 300]\n",
    "for tree in num_trees:\n",
    "    RandomForest(tree)"
   ]
  },
  {
   "cell_type": "markdown",
   "metadata": {},
   "source": [
    "# Neural Network"
   ]
  },
  {
   "cell_type": "code",
   "execution_count": 27,
   "metadata": {},
   "outputs": [
    {
     "name": "stderr",
     "output_type": "stream",
     "text": [
      "/Users/gregdhillon/anaconda2/lib/python2.7/site-packages/h5py/__init__.py:34: FutureWarning: Conversion of the second argument of issubdtype from `float` to `np.floating` is deprecated. In future, it will be treated as `np.float64 == np.dtype(float).type`.\n",
      "  from ._conv import register_converters as _register_converters\n",
      "Using TensorFlow backend.\n"
     ]
    }
   ],
   "source": [
    "import tensorflow as tf\n",
    "import keras\n",
    "from keras.callbacks import ModelCheckpoint\n",
    "from keras.models import Sequential\n",
    "from keras.layers import Dense, Activation, Flatten"
   ]
  },
  {
   "cell_type": "code",
   "execution_count": 28,
   "metadata": {},
   "outputs": [
    {
     "name": "stdout",
     "output_type": "stream",
     "text": [
      "WARNING:tensorflow:From /Users/gregdhillon/anaconda2/lib/python2.7/site-packages/tensorflow/python/framework/op_def_library.py:263: colocate_with (from tensorflow.python.framework.ops) is deprecated and will be removed in a future version.\n",
      "Instructions for updating:\n",
      "Colocations handled automatically by placer.\n",
      "WARNING:tensorflow:From /Users/gregdhillon/anaconda2/lib/python2.7/site-packages/tensorflow/python/ops/math_ops.py:3066: to_int32 (from tensorflow.python.ops.math_ops) is deprecated and will be removed in a future version.\n",
      "Instructions for updating:\n",
      "Use tf.cast instead.\n",
      "Epoch 1/100\n",
      "3792/3792 [==============================] - 1s 236us/step - loss: 2905.9924 - mean_absolute_error: 2905.9924\n",
      "Epoch 2/100\n",
      "3792/3792 [==============================] - 1s 165us/step - loss: 2814.5698 - mean_absolute_error: 2814.5698\n",
      "Epoch 3/100\n",
      "3792/3792 [==============================] - 1s 167us/step - loss: 2322.7762 - mean_absolute_error: 2322.7762\n",
      "Epoch 4/100\n",
      "3792/3792 [==============================] - 1s 165us/step - loss: 1946.8601 - mean_absolute_error: 1946.8601\n",
      "Epoch 5/100\n",
      "3792/3792 [==============================] - 1s 164us/step - loss: 1908.0937 - mean_absolute_error: 1908.0937\n",
      "Epoch 6/100\n",
      "3792/3792 [==============================] - 1s 167us/step - loss: 1847.2453 - mean_absolute_error: 1847.2453\n",
      "Epoch 7/100\n",
      "3792/3792 [==============================] - 1s 164us/step - loss: 1870.7118 - mean_absolute_error: 1870.7118\n",
      "Epoch 8/100\n",
      "3792/3792 [==============================] - 1s 166us/step - loss: 1824.2434 - mean_absolute_error: 1824.2434\n",
      "Epoch 9/100\n",
      "3792/3792 [==============================] - 1s 166us/step - loss: 1808.9928 - mean_absolute_error: 1808.9928\n",
      "Epoch 10/100\n",
      "3792/3792 [==============================] - 1s 164us/step - loss: 1804.8684 - mean_absolute_error: 1804.8684\n",
      "Epoch 11/100\n",
      "3792/3792 [==============================] - 1s 162us/step - loss: 1797.6712 - mean_absolute_error: 1797.6712\n",
      "Epoch 12/100\n",
      "3792/3792 [==============================] - 1s 164us/step - loss: 1789.0160 - mean_absolute_error: 1789.0160\n",
      "Epoch 13/100\n",
      "3792/3792 [==============================] - 1s 164us/step - loss: 1811.2941 - mean_absolute_error: 1811.2941\n",
      "Epoch 14/100\n",
      "3792/3792 [==============================] - 1s 165us/step - loss: 1795.5379 - mean_absolute_error: 1795.5379\n",
      "Epoch 15/100\n",
      "3792/3792 [==============================] - 1s 163us/step - loss: 1773.6918 - mean_absolute_error: 1773.6918\n",
      "Epoch 16/100\n",
      "3792/3792 [==============================] - 1s 162us/step - loss: 1793.0176 - mean_absolute_error: 1793.0176\n",
      "Epoch 17/100\n",
      "3792/3792 [==============================] - 1s 164us/step - loss: 1786.3787 - mean_absolute_error: 1786.3787\n",
      "Epoch 18/100\n",
      "3792/3792 [==============================] - 1s 162us/step - loss: 1782.9255 - mean_absolute_error: 1782.9255\n",
      "Epoch 19/100\n",
      "3792/3792 [==============================] - 1s 163us/step - loss: 1777.0986 - mean_absolute_error: 1777.0986\n",
      "Epoch 20/100\n",
      "3792/3792 [==============================] - 1s 165us/step - loss: 1793.4590 - mean_absolute_error: 1793.4590\n",
      "Epoch 21/100\n",
      "3792/3792 [==============================] - 1s 163us/step - loss: 1750.9165 - mean_absolute_error: 1750.9165\n",
      "Epoch 22/100\n",
      "3792/3792 [==============================] - 1s 164us/step - loss: 1790.2975 - mean_absolute_error: 1790.2975\n",
      "Epoch 23/100\n",
      "3792/3792 [==============================] - 1s 160us/step - loss: 1762.7159 - mean_absolute_error: 1762.7159\n",
      "Epoch 24/100\n",
      "3792/3792 [==============================] - 1s 163us/step - loss: 1787.9028 - mean_absolute_error: 1787.9028\n",
      "Epoch 25/100\n",
      "3792/3792 [==============================] - 1s 171us/step - loss: 1768.8511 - mean_absolute_error: 1768.8511\n",
      "Epoch 26/100\n",
      "3792/3792 [==============================] - 1s 168us/step - loss: 1796.1233 - mean_absolute_error: 1796.1233\n",
      "Epoch 27/100\n",
      "3792/3792 [==============================] - 1s 167us/step - loss: 1748.7011 - mean_absolute_error: 1748.7011\n",
      "Epoch 28/100\n",
      "3792/3792 [==============================] - 1s 165us/step - loss: 1763.3836 - mean_absolute_error: 1763.3836\n",
      "Epoch 29/100\n",
      "3792/3792 [==============================] - 1s 163us/step - loss: 1725.9441 - mean_absolute_error: 1725.9441\n",
      "Epoch 30/100\n",
      "3792/3792 [==============================] - 1s 165us/step - loss: 1762.9267 - mean_absolute_error: 1762.9267\n",
      "Epoch 31/100\n",
      "3792/3792 [==============================] - 1s 162us/step - loss: 1761.3285 - mean_absolute_error: 1761.3285\n",
      "Epoch 32/100\n",
      "3792/3792 [==============================] - 1s 161us/step - loss: 1768.2879 - mean_absolute_error: 1768.2879\n",
      "Epoch 33/100\n",
      "3792/3792 [==============================] - 1s 164us/step - loss: 1746.8330 - mean_absolute_error: 1746.8330\n",
      "Epoch 34/100\n",
      "3792/3792 [==============================] - 1s 163us/step - loss: 1747.6979 - mean_absolute_error: 1747.6979\n",
      "Epoch 35/100\n",
      "3792/3792 [==============================] - 1s 164us/step - loss: 1722.0787 - mean_absolute_error: 1722.0787\n",
      "Epoch 36/100\n",
      "3792/3792 [==============================] - 1s 164us/step - loss: 1728.0940 - mean_absolute_error: 1728.0940\n",
      "Epoch 37/100\n",
      "3792/3792 [==============================] - 1s 161us/step - loss: 1737.6435 - mean_absolute_error: 1737.6435\n",
      "Epoch 38/100\n",
      "3792/3792 [==============================] - 1s 163us/step - loss: 1735.0593 - mean_absolute_error: 1735.0593\n",
      "Epoch 39/100\n",
      "3792/3792 [==============================] - 1s 161us/step - loss: 1760.5298 - mean_absolute_error: 1760.5298\n",
      "Epoch 40/100\n",
      "3792/3792 [==============================] - 1s 162us/step - loss: 1721.2076 - mean_absolute_error: 1721.2076\n",
      "Epoch 41/100\n",
      "3792/3792 [==============================] - 1s 165us/step - loss: 1717.3039 - mean_absolute_error: 1717.3039\n",
      "Epoch 42/100\n",
      "3792/3792 [==============================] - 1s 160us/step - loss: 1714.7318 - mean_absolute_error: 1714.7318\n",
      "Epoch 43/100\n",
      "3792/3792 [==============================] - 1s 164us/step - loss: 1743.4919 - mean_absolute_error: 1743.4919\n",
      "Epoch 44/100\n",
      "3792/3792 [==============================] - 1s 163us/step - loss: 1763.8394 - mean_absolute_error: 1763.8394\n",
      "Epoch 45/100\n",
      "3792/3792 [==============================] - 1s 161us/step - loss: 1733.3537 - mean_absolute_error: 1733.3537\n",
      "Epoch 46/100\n",
      "3792/3792 [==============================] - 1s 163us/step - loss: 1721.2396 - mean_absolute_error: 1721.2396\n",
      "Epoch 47/100\n",
      "3792/3792 [==============================] - 1s 165us/step - loss: 1734.6987 - mean_absolute_error: 1734.6987\n",
      "Epoch 48/100\n",
      "3792/3792 [==============================] - 1s 164us/step - loss: 1696.6597 - mean_absolute_error: 1696.6597\n",
      "Epoch 49/100\n",
      "3792/3792 [==============================] - 1s 160us/step - loss: 1729.4690 - mean_absolute_error: 1729.4690\n",
      "Epoch 50/100\n",
      "3792/3792 [==============================] - 1s 163us/step - loss: 1719.0895 - mean_absolute_error: 1719.0895\n",
      "Epoch 51/100\n",
      "3792/3792 [==============================] - 1s 165us/step - loss: 1707.1360 - mean_absolute_error: 1707.1360\n",
      "Epoch 52/100\n",
      "3792/3792 [==============================] - 1s 160us/step - loss: 1723.6423 - mean_absolute_error: 1723.6423\n",
      "Epoch 53/100\n",
      "3792/3792 [==============================] - 1s 160us/step - loss: 1724.8886 - mean_absolute_error: 1724.8886\n",
      "Epoch 54/100\n",
      "3792/3792 [==============================] - 1s 163us/step - loss: 1717.4245 - mean_absolute_error: 1717.4245\n",
      "Epoch 55/100\n",
      "3792/3792 [==============================] - 1s 164us/step - loss: 1720.7261 - mean_absolute_error: 1720.7261\n",
      "Epoch 56/100\n",
      "3792/3792 [==============================] - 1s 164us/step - loss: 1683.4857 - mean_absolute_error: 1683.4857\n",
      "Epoch 57/100\n",
      "3792/3792 [==============================] - 1s 169us/step - loss: 1711.2898 - mean_absolute_error: 1711.2898\n",
      "Epoch 58/100\n",
      "3792/3792 [==============================] - 1s 167us/step - loss: 1717.9966 - mean_absolute_error: 1717.9966\n",
      "Epoch 59/100\n",
      "3792/3792 [==============================] - 1s 166us/step - loss: 1682.7704 - mean_absolute_error: 1682.7704\n",
      "Epoch 60/100\n",
      "3792/3792 [==============================] - 1s 165us/step - loss: 1703.5918 - mean_absolute_error: 1703.5918\n",
      "Epoch 61/100\n",
      "3792/3792 [==============================] - 1s 166us/step - loss: 1704.1057 - mean_absolute_error: 1704.1057\n",
      "Epoch 62/100\n"
     ]
    },
    {
     "name": "stdout",
     "output_type": "stream",
     "text": [
      "3792/3792 [==============================] - 1s 166us/step - loss: 1690.6120 - mean_absolute_error: 1690.6120\n",
      "Epoch 63/100\n",
      "3792/3792 [==============================] - 1s 163us/step - loss: 1681.0845 - mean_absolute_error: 1681.0845\n",
      "Epoch 64/100\n",
      "3792/3792 [==============================] - 1s 161us/step - loss: 1699.9815 - mean_absolute_error: 1699.9815\n",
      "Epoch 65/100\n",
      "3792/3792 [==============================] - 1s 164us/step - loss: 1678.3275 - mean_absolute_error: 1678.3275\n",
      "Epoch 66/100\n",
      "3792/3792 [==============================] - 1s 160us/step - loss: 1684.2901 - mean_absolute_error: 1684.2901\n",
      "Epoch 67/100\n",
      "3792/3792 [==============================] - 1s 162us/step - loss: 1668.4136 - mean_absolute_error: 1668.4136\n",
      "Epoch 68/100\n",
      "3792/3792 [==============================] - 1s 162us/step - loss: 1661.0173 - mean_absolute_error: 1661.0173\n",
      "Epoch 69/100\n",
      "3792/3792 [==============================] - 1s 162us/step - loss: 1676.7489 - mean_absolute_error: 1676.7489\n",
      "Epoch 70/100\n",
      "3792/3792 [==============================] - 1s 162us/step - loss: 1646.5587 - mean_absolute_error: 1646.5587\n",
      "Epoch 71/100\n",
      "3792/3792 [==============================] - 1s 163us/step - loss: 1693.8030 - mean_absolute_error: 1693.8030\n",
      "Epoch 72/100\n",
      "3792/3792 [==============================] - 1s 163us/step - loss: 1664.0051 - mean_absolute_error: 1664.0051\n",
      "Epoch 73/100\n",
      "3792/3792 [==============================] - 1s 164us/step - loss: 1687.7290 - mean_absolute_error: 1687.7290\n",
      "Epoch 74/100\n",
      "3792/3792 [==============================] - 1s 160us/step - loss: 1669.8495 - mean_absolute_error: 1669.8495\n",
      "Epoch 75/100\n",
      "3792/3792 [==============================] - 1s 163us/step - loss: 1679.2690 - mean_absolute_error: 1679.2690\n",
      "Epoch 76/100\n",
      "3792/3792 [==============================] - 1s 166us/step - loss: 1682.0137 - mean_absolute_error: 1682.0137\n",
      "Epoch 77/100\n",
      "3792/3792 [==============================] - 1s 161us/step - loss: 1658.1305 - mean_absolute_error: 1658.1305\n",
      "Epoch 78/100\n",
      "3792/3792 [==============================] - 1s 164us/step - loss: 1633.4626 - mean_absolute_error: 1633.4626\n",
      "Epoch 79/100\n",
      "3792/3792 [==============================] - 1s 163us/step - loss: 1704.0082 - mean_absolute_error: 1704.0082\n",
      "Epoch 80/100\n",
      "3792/3792 [==============================] - 1s 162us/step - loss: 1666.0949 - mean_absolute_error: 1666.0949\n",
      "Epoch 81/100\n",
      "3792/3792 [==============================] - 1s 163us/step - loss: 1668.2644 - mean_absolute_error: 1668.2644\n",
      "Epoch 82/100\n",
      "3792/3792 [==============================] - 1s 164us/step - loss: 1656.8119 - mean_absolute_error: 1656.8119\n",
      "Epoch 83/100\n",
      "3792/3792 [==============================] - 1s 164us/step - loss: 1673.5948 - mean_absolute_error: 1673.5948\n",
      "Epoch 84/100\n",
      "3792/3792 [==============================] - 1s 165us/step - loss: 1661.8669 - mean_absolute_error: 1661.8669\n",
      "Epoch 85/100\n",
      "3792/3792 [==============================] - 1s 161us/step - loss: 1656.0467 - mean_absolute_error: 1656.0467\n",
      "Epoch 86/100\n",
      "3792/3792 [==============================] - 1s 163us/step - loss: 1640.5264 - mean_absolute_error: 1640.5264\n",
      "Epoch 87/100\n",
      "3792/3792 [==============================] - 1s 161us/step - loss: 1656.6956 - mean_absolute_error: 1656.6956\n",
      "Epoch 88/100\n",
      "3792/3792 [==============================] - 1s 163us/step - loss: 1653.5105 - mean_absolute_error: 1653.5105\n",
      "Epoch 89/100\n",
      "3792/3792 [==============================] - 1s 167us/step - loss: 1671.8026 - mean_absolute_error: 1671.8026\n",
      "Epoch 90/100\n",
      "3792/3792 [==============================] - 1s 168us/step - loss: 1660.9692 - mean_absolute_error: 1660.9692\n",
      "Epoch 91/100\n",
      "3792/3792 [==============================] - 1s 164us/step - loss: 1645.8289 - mean_absolute_error: 1645.8289\n",
      "Epoch 92/100\n",
      "3792/3792 [==============================] - 1s 167us/step - loss: 1671.3107 - mean_absolute_error: 1671.3107\n",
      "Epoch 93/100\n",
      "3792/3792 [==============================] - 1s 164us/step - loss: 1631.0952 - mean_absolute_error: 1631.0952\n",
      "Epoch 94/100\n",
      "3792/3792 [==============================] - 1s 165us/step - loss: 1627.9652 - mean_absolute_error: 1627.9652\n",
      "Epoch 95/100\n",
      "3792/3792 [==============================] - 1s 161us/step - loss: 1662.7575 - mean_absolute_error: 1662.7575\n",
      "Epoch 96/100\n",
      "3792/3792 [==============================] - 1s 163us/step - loss: 1609.4132 - mean_absolute_error: 1609.4132\n",
      "Epoch 97/100\n",
      "3792/3792 [==============================] - 1s 164us/step - loss: 1613.2609 - mean_absolute_error: 1613.2609\n",
      "Epoch 98/100\n",
      "3792/3792 [==============================] - 1s 163us/step - loss: 1625.0378 - mean_absolute_error: 1625.0378\n",
      "Epoch 99/100\n",
      "3792/3792 [==============================] - 1s 163us/step - loss: 1612.6287 - mean_absolute_error: 1612.6287\n",
      "Epoch 100/100\n",
      "3792/3792 [==============================] - 1s 161us/step - loss: 1652.5367 - mean_absolute_error: 1652.5367\n"
     ]
    },
    {
     "data": {
      "text/plain": [
       "<keras.callbacks.History at 0x12ec70b10>"
      ]
     },
     "execution_count": 28,
     "metadata": {},
     "output_type": "execute_result"
    }
   ],
   "source": [
    "model = Sequential()\n",
    "\n",
    "# The Input Layer :\n",
    "model.add(Dense(128, kernel_initializer='normal',input_dim = X_train.shape[1], activation='relu'))\n",
    "\n",
    "# The Hidden Layers :\n",
    "model.add(Dense(256, kernel_initializer='normal',activation='relu'))\n",
    "model.add(Dense(256, kernel_initializer='normal',activation='relu'))\n",
    "model.add(Dense(256, kernel_initializer='normal',activation='relu'))\n",
    "\n",
    "# The Output Layer :\n",
    "model.add(Dense(1, kernel_initializer='normal',activation='linear'))\n",
    "\n",
    "# Compile the network :\n",
    "model.compile(loss='mean_absolute_error', optimizer='adam', metrics=['mean_absolute_error'])\n",
    "model.fit(X_train, y_train, batch_size = 10, epochs = 100)"
   ]
  },
  {
   "cell_type": "code",
   "execution_count": 29,
   "metadata": {
    "collapsed": true
   },
   "outputs": [],
   "source": [
    "y_pred = model.predict(X_test)"
   ]
  },
  {
   "cell_type": "code",
   "execution_count": 30,
   "metadata": {},
   "outputs": [
    {
     "data": {
      "image/png": "[encoded data removed]",
      "text/plain": [
       "<matplotlib.figure.Figure at 0x12ec17150>"
      ]
     },
     "metadata": {},
     "output_type": "display_data"
    }
   ],
   "source": [
    "plt.plot(y_test, color = 'red', label = 'Real data')\n",
    "plt.plot(y_pred, color = 'blue', label = 'Predicted data')\n",
    "plt.title('Prediction')\n",
    "plt.legend()\n",
    "plt.show()"
   ]
  },
  {
   "cell_type": "markdown",
   "metadata": {},
   "source": [
    "# Scaling the data"
   ]
  },
  {
   "cell_type": "code",
   "execution_count": 31,
   "metadata": {},
   "outputs": [
    {
     "name": "stderr",
     "output_type": "stream",
     "text": [
      "/Users/gregdhillon/anaconda2/lib/python2.7/site-packages/sklearn/preprocessing/data.py:625: DataConversionWarning: Data with input dtype int64, float64 were all converted to float64 by StandardScaler.\n",
      "  return self.partial_fit(X, y)\n",
      "/Users/gregdhillon/anaconda2/lib/python2.7/site-packages/sklearn/base.py:462: DataConversionWarning: Data with input dtype int64, float64 were all converted to float64 by StandardScaler.\n",
      "  return self.fit(X, **fit_params).transform(X)\n",
      "/Users/gregdhillon/anaconda2/lib/python2.7/site-packages/ipykernel_launcher.py:5: DataConversionWarning: Data with input dtype int64, float64 were all converted to float64 by StandardScaler.\n",
      "  \"\"\"\n"
     ]
    }
   ],
   "source": [
    "from sklearn.preprocessing import StandardScaler\n",
    "\n",
    "sc = StandardScaler()  \n",
    "X_train = sc.fit_transform(X_train)  \n",
    "X_test = sc.transform(X_test)  "
   ]
  },
  {
   "cell_type": "markdown",
   "metadata": {},
   "source": [
    "# Gradient Boosting With scaled data"
   ]
  },
  {
   "cell_type": "code",
   "execution_count": 32,
   "metadata": {
    "collapsed": true
   },
   "outputs": [],
   "source": [
    "gbm = GradientBoostingRegressor(n_estimators=100)\n",
    "gbm.fit(X_train, y_train)\n",
    "predictions = gbm.predict(X_test)"
   ]
  },
  {
   "cell_type": "code",
   "execution_count": 33,
   "metadata": {},
   "outputs": [
    {
     "name": "stdout",
     "output_type": "stream",
     "text": [
      "[0.04569006 0.06921523 0.46621746 0.08952324 0.13207484 0.02468518\n",
      " 0.17259398]\n",
      "R-squared for Train: 0.68\n",
      "R-squared for Test: 0.49\n"
     ]
    }
   ],
   "source": [
    "print gbm.feature_importances_\n",
    "print \"R-squared for Train: %.2f\" %gbm.score(X_train, y_train) \n",
    "print \"R-squared for Test: %.2f\" %gbm.score(X_test, y_test) "
   ]
  },
  {
   "cell_type": "code",
   "execution_count": 34,
   "metadata": {},
   "outputs": [
    {
     "name": "stdout",
     "output_type": "stream",
     "text": [
      "Best Estimator learned through GridSearch\n",
      "GradientBoostingRegressor(alpha=0.9, criterion='friedman_mse', init=None,\n",
      "             learning_rate=0.1, loss='ls', max_depth=6, max_features=1.0,\n",
      "             max_leaf_nodes=None, min_impurity_decrease=0.0,\n",
      "             min_impurity_split=None, min_samples_leaf=3,\n",
      "             min_samples_split=2, min_weight_fraction_leaf=0.0,\n",
      "             n_estimators=100, n_iter_no_change=None, presort='auto',\n",
      "             random_state=None, subsample=1.0, tol=0.0001,\n",
      "             validation_fraction=0.1, verbose=0, warm_start=False)\n"
     ]
    }
   ],
   "source": [
    "cv,best_est=GradientBooster(param_grid, n_jobs)"
   ]
  },
  {
   "cell_type": "code",
   "execution_count": 35,
   "metadata": {},
   "outputs": [
    {
     "name": "stdout",
     "output_type": "stream",
     "text": [
      "Best Estimator Parameters\n",
      "---------------------------\n",
      "n_estimators: 100\n",
      "max_depth: 6\n",
      "Learning Rate: 0.1\n",
      "min_samples_leaf: 3\n",
      "max_features: 1.0\n",
      "\n",
      "Train R-squared: 0.89\n"
     ]
    }
   ],
   "source": [
    "print \"Best Estimator Parameters\" \n",
    "print\"---------------------------\" \n",
    "print \"n_estimators: %d\" %best_est.n_estimators \n",
    "print \"max_depth: %d\" %best_est.max_depth \n",
    "print \"Learning Rate: %.1f\" %best_est.learning_rate \n",
    "print \"min_samples_leaf: %d\" %best_est.min_samples_leaf \n",
    "print \"max_features: %.1f\" %best_est.max_features \n",
    "print\n",
    "print \"Train R-squared: %.2f\" %best_est.score(X_train,y_train) "
   ]
  },
  {
   "cell_type": "code",
   "execution_count": 36,
   "metadata": {},
   "outputs": [
    {
     "name": "stdout",
     "output_type": "stream",
     "text": [
      "Train R-squared: 0.89\n",
      "Test R-squared: 0.55\n"
     ]
    }
   ],
   "source": [
    "estimator = best_est \n",
    "#Re-fitting to the train set \n",
    "estimator.fit(X_train, y_train) \n",
    "#Calculating train/test scores - R-squared value \n",
    "print \"Train R-squared: %.2f\" %estimator.score(X_train, y_train) \n",
    "print \"Test R-squared: %.2f\" %estimator.score(X_test, y_test) "
   ]
  },
  {
   "cell_type": "markdown",
   "metadata": {},
   "source": [
    "# Random Forest With Scaled data"
   ]
  },
  {
   "cell_type": "code",
   "execution_count": 37,
   "metadata": {},
   "outputs": [
    {
     "name": "stdout",
     "output_type": "stream",
     "text": [
      "Number of Trees: 10.00\n",
      "Mean Absolute Error: 1200.58\n",
      "Mean Squared Error: 2814686.91"
     ]
    },
    {
     "name": "stderr",
     "output_type": "stream",
     "text": [
      "/Users/gregdhillon/anaconda2/lib/python2.7/site-packages/ipykernel_launcher.py:4: DataConversionWarning: A column-vector y was passed when a 1d array was expected. Please change the shape of y to (n_samples,), for example using ravel().\n",
      "  after removing the cwd from sys.path.\n"
     ]
    },
    {
     "name": "stdout",
     "output_type": "stream",
     "text": [
      "\n",
      "Root Mean Squared Error: 1677.70\n",
      "\n",
      "Number of Trees: 20.00\n",
      "Mean Absolute Error: 1173.64\n",
      "Mean Squared Error: 2677619.03\n",
      "Root Mean Squared Error: 1636.34\n",
      "\n",
      "Number of Trees: 40.00\n",
      "Mean Absolute Error: 1149.14\n",
      "Mean Squared Error: 2596100.79\n",
      "Root Mean Squared Error: 1611.24\n",
      "\n",
      "Number of Trees: 60.00\n",
      "Mean Absolute Error: 1150.35\n",
      "Mean Squared Error: 2583392.46\n",
      "Root Mean Squared Error: 1607.29\n",
      "\n",
      "Number of Trees: 80.00\n",
      "Mean Absolute Error: 1144.96\n",
      "Mean Squared Error: 2579447.49\n",
      "Root Mean Squared Error: 1606.07\n",
      "\n",
      "Number of Trees: 100.00\n",
      "Mean Absolute Error: 1144.52\n",
      "Mean Squared Error: 2550757.04\n",
      "Root Mean Squared Error: 1597.11\n",
      "\n",
      "Number of Trees: 120.00\n",
      "Mean Absolute Error: 1144.42\n",
      "Mean Squared Error: 2551404.60\n",
      "Root Mean Squared Error: 1597.31\n",
      "\n",
      "Number of Trees: 140.00\n",
      "Mean Absolute Error: 1142.75\n",
      "Mean Squared Error: 2547672.64\n",
      "Root Mean Squared Error: 1596.14\n",
      "\n",
      "Number of Trees: 160.00\n",
      "Mean Absolute Error: 1141.79\n",
      "Mean Squared Error: 2530719.46\n",
      "Root Mean Squared Error: 1590.82\n",
      "\n",
      "Number of Trees: 180.00\n",
      "Mean Absolute Error: 1142.81\n",
      "Mean Squared Error: 2533472.02\n",
      "Root Mean Squared Error: 1591.69\n",
      "\n",
      "Number of Trees: 200.00\n",
      "Mean Absolute Error: 1141.89\n",
      "Mean Squared Error: 2527194.68\n",
      "Root Mean Squared Error: 1589.72\n",
      "\n",
      "Number of Trees: 300.00\n",
      "Mean Absolute Error: 1143.44\n",
      "Mean Squared Error: 2524476.15\n",
      "Root Mean Squared Error: 1588.86\n",
      "\n"
     ]
    }
   ],
   "source": [
    "num_trees = [10, 20, 40, 60, 80, 100, 120, 140, 160, 180, 200, 300]\n",
    "for tree in num_trees:\n",
    "    RandomForest(tree)"
   ]
  },
  {
   "cell_type": "markdown",
   "metadata": {
    "collapsed": true
   },
   "source": [
    "# Neural Network with Scaled Data"
   ]
  },
  {
   "cell_type": "code",
   "execution_count": 38,
   "metadata": {},
   "outputs": [
    {
     "name": "stdout",
     "output_type": "stream",
     "text": [
      "Epoch 1/100\n",
      "3792/3792 [==============================] - 1s 236us/step - loss: 3087.5918 - mean_absolute_error: 3087.5918\n",
      "Epoch 2/100\n",
      "3792/3792 [==============================] - 1s 165us/step - loss: 1519.5226 - mean_absolute_error: 1519.5226\n",
      "Epoch 3/100\n",
      "3792/3792 [==============================] - 1s 166us/step - loss: 1412.1103 - mean_absolute_error: 1412.1103\n",
      "Epoch 4/100\n",
      "3792/3792 [==============================] - 1s 166us/step - loss: 1409.2554 - mean_absolute_error: 1409.2554\n",
      "Epoch 5/100\n",
      "3792/3792 [==============================] - 1s 166us/step - loss: 1412.1632 - mean_absolute_error: 1412.1632\n",
      "Epoch 6/100\n",
      "3792/3792 [==============================] - 1s 166us/step - loss: 1406.9705 - mean_absolute_error: 1406.9705\n",
      "Epoch 7/100\n",
      "3792/3792 [==============================] - 1s 167us/step - loss: 1383.8310 - mean_absolute_error: 1383.8310\n",
      "Epoch 8/100\n",
      "3792/3792 [==============================] - 1s 167us/step - loss: 1378.4253 - mean_absolute_error: 1378.4253\n",
      "Epoch 9/100\n",
      "3792/3792 [==============================] - 1s 166us/step - loss: 1378.1373 - mean_absolute_error: 1378.1373\n",
      "Epoch 10/100\n",
      "3792/3792 [==============================] - 1s 167us/step - loss: 1365.0184 - mean_absolute_error: 1365.0184\n",
      "Epoch 11/100\n",
      "3792/3792 [==============================] - 1s 166us/step - loss: 1381.8196 - mean_absolute_error: 1381.8196\n",
      "Epoch 12/100\n",
      "3792/3792 [==============================] - 1s 166us/step - loss: 1372.0952 - mean_absolute_error: 1372.0952\n",
      "Epoch 13/100\n",
      "3792/3792 [==============================] - 1s 165us/step - loss: 1365.2770 - mean_absolute_error: 1365.2770\n",
      "Epoch 14/100\n",
      "3792/3792 [==============================] - 1s 165us/step - loss: 1352.1999 - mean_absolute_error: 1352.1999\n",
      "Epoch 15/100\n",
      "3792/3792 [==============================] - 1s 166us/step - loss: 1362.3080 - mean_absolute_error: 1362.3080\n",
      "Epoch 16/100\n",
      "3792/3792 [==============================] - 1s 165us/step - loss: 1358.0134 - mean_absolute_error: 1358.0134\n",
      "Epoch 17/100\n",
      "3792/3792 [==============================] - 1s 166us/step - loss: 1352.1543 - mean_absolute_error: 1352.1543\n",
      "Epoch 18/100\n",
      "3792/3792 [==============================] - 1s 167us/step - loss: 1373.3929 - mean_absolute_error: 1373.3929\n",
      "Epoch 19/100\n",
      "3792/3792 [==============================] - 1s 170us/step - loss: 1356.6974 - mean_absolute_error: 1356.6974\n",
      "Epoch 20/100\n",
      "3792/3792 [==============================] - 1s 172us/step - loss: 1352.1695 - mean_absolute_error: 1352.1695\n",
      "Epoch 21/100\n",
      "3792/3792 [==============================] - 1s 172us/step - loss: 1339.7720 - mean_absolute_error: 1339.7720\n",
      "Epoch 22/100\n",
      "3792/3792 [==============================] - 1s 169us/step - loss: 1345.3753 - mean_absolute_error: 1345.3753\n",
      "Epoch 23/100\n",
      "3792/3792 [==============================] - 1s 168us/step - loss: 1346.9065 - mean_absolute_error: 1346.9065\n",
      "Epoch 24/100\n",
      "3792/3792 [==============================] - 1s 168us/step - loss: 1339.8781 - mean_absolute_error: 1339.8781\n",
      "Epoch 25/100\n",
      "3792/3792 [==============================] - 1s 168us/step - loss: 1348.1038 - mean_absolute_error: 1348.1038\n",
      "Epoch 26/100\n",
      "3792/3792 [==============================] - 1s 168us/step - loss: 1338.8552 - mean_absolute_error: 1338.8552\n",
      "Epoch 27/100\n",
      "3792/3792 [==============================] - 1s 167us/step - loss: 1349.8763 - mean_absolute_error: 1349.8763\n",
      "Epoch 28/100\n",
      "3792/3792 [==============================] - 1s 166us/step - loss: 1341.3458 - mean_absolute_error: 1341.3458\n",
      "Epoch 29/100\n",
      "3792/3792 [==============================] - 1s 167us/step - loss: 1340.8064 - mean_absolute_error: 1340.8064\n",
      "Epoch 30/100\n",
      "3792/3792 [==============================] - 1s 166us/step - loss: 1340.5041 - mean_absolute_error: 1340.5041\n",
      "Epoch 31/100\n",
      "3792/3792 [==============================] - 1s 168us/step - loss: 1331.1901 - mean_absolute_error: 1331.1901\n",
      "Epoch 32/100\n",
      "3792/3792 [==============================] - 1s 166us/step - loss: 1341.7936 - mean_absolute_error: 1341.7936\n",
      "Epoch 33/100\n",
      "3792/3792 [==============================] - 1s 166us/step - loss: 1336.3458 - mean_absolute_error: 1336.3458\n",
      "Epoch 34/100\n",
      "3792/3792 [==============================] - 1s 167us/step - loss: 1334.6324 - mean_absolute_error: 1334.6324\n",
      "Epoch 35/100\n",
      "3792/3792 [==============================] - 1s 168us/step - loss: 1330.8665 - mean_absolute_error: 1330.8665\n",
      "Epoch 36/100\n",
      "3792/3792 [==============================] - 1s 166us/step - loss: 1333.9953 - mean_absolute_error: 1333.9953\n",
      "Epoch 37/100\n",
      "3792/3792 [==============================] - 1s 168us/step - loss: 1327.1191 - mean_absolute_error: 1327.1191\n",
      "Epoch 38/100\n",
      "3792/3792 [==============================] - 1s 169us/step - loss: 1331.2421 - mean_absolute_error: 1331.2421\n",
      "Epoch 39/100\n",
      "3792/3792 [==============================] - 1s 167us/step - loss: 1331.7041 - mean_absolute_error: 1331.7041\n",
      "Epoch 40/100\n",
      "3792/3792 [==============================] - 1s 166us/step - loss: 1311.4975 - mean_absolute_error: 1311.4975\n",
      "Epoch 41/100\n",
      "3792/3792 [==============================] - 1s 167us/step - loss: 1309.8301 - mean_absolute_error: 1309.8301\n",
      "Epoch 42/100\n",
      "3792/3792 [==============================] - 1s 166us/step - loss: 1321.4535 - mean_absolute_error: 1321.4535\n",
      "Epoch 43/100\n",
      "3792/3792 [==============================] - 1s 165us/step - loss: 1319.4448 - mean_absolute_error: 1319.4448\n",
      "Epoch 44/100\n",
      "3792/3792 [==============================] - 1s 166us/step - loss: 1318.3174 - mean_absolute_error: 1318.3174\n",
      "Epoch 45/100\n",
      "3792/3792 [==============================] - 1s 165us/step - loss: 1313.4937 - mean_absolute_error: 1313.4937\n",
      "Epoch 46/100\n",
      "3792/3792 [==============================] - 1s 167us/step - loss: 1341.5787 - mean_absolute_error: 1341.5787\n",
      "Epoch 47/100\n",
      "3792/3792 [==============================] - 1s 167us/step - loss: 1310.0513 - mean_absolute_error: 1310.0513\n",
      "Epoch 48/100\n",
      "3792/3792 [==============================] - 1s 167us/step - loss: 1320.2416 - mean_absolute_error: 1320.2416\n",
      "Epoch 49/100\n",
      "3792/3792 [==============================] - 1s 167us/step - loss: 1299.5899 - mean_absolute_error: 1299.5899\n",
      "Epoch 50/100\n",
      "3792/3792 [==============================] - 1s 166us/step - loss: 1303.4947 - mean_absolute_error: 1303.4947\n",
      "Epoch 51/100\n",
      "3792/3792 [==============================] - 1s 168us/step - loss: 1295.4726 - mean_absolute_error: 1295.4726\n",
      "Epoch 52/100\n",
      "3792/3792 [==============================] - 1s 174us/step - loss: 1305.0995 - mean_absolute_error: 1305.0995\n",
      "Epoch 53/100\n",
      "3792/3792 [==============================] - 1s 170us/step - loss: 1291.6775 - mean_absolute_error: 1291.6775\n",
      "Epoch 54/100\n",
      "3792/3792 [==============================] - 1s 167us/step - loss: 1302.3896 - mean_absolute_error: 1302.3896\n",
      "Epoch 55/100\n",
      "3792/3792 [==============================] - 1s 170us/step - loss: 1299.7808 - mean_absolute_error: 1299.7808\n",
      "Epoch 56/100\n",
      "3792/3792 [==============================] - 1s 168us/step - loss: 1309.7589 - mean_absolute_error: 1309.7589\n",
      "Epoch 57/100\n",
      "3792/3792 [==============================] - 1s 166us/step - loss: 1292.9749 - mean_absolute_error: 1292.9749\n",
      "Epoch 58/100\n",
      "3792/3792 [==============================] - 1s 167us/step - loss: 1285.2735 - mean_absolute_error: 1285.2735\n",
      "Epoch 59/100\n",
      "3792/3792 [==============================] - 1s 166us/step - loss: 1292.7793 - mean_absolute_error: 1292.7793\n",
      "Epoch 60/100\n",
      "3792/3792 [==============================] - 1s 166us/step - loss: 1282.5672 - mean_absolute_error: 1282.5672\n",
      "Epoch 61/100\n",
      "3792/3792 [==============================] - 1s 165us/step - loss: 1292.8419 - mean_absolute_error: 1292.8419\n",
      "Epoch 62/100\n",
      "3792/3792 [==============================] - 1s 166us/step - loss: 1289.1353 - mean_absolute_error: 1289.1353\n",
      "Epoch 63/100\n",
      "3792/3792 [==============================] - 1s 167us/step - loss: 1305.2635 - mean_absolute_error: 1305.2635\n",
      "Epoch 64/100\n",
      "3792/3792 [==============================] - 1s 166us/step - loss: 1288.6506 - mean_absolute_error: 1288.6506\n",
      "Epoch 65/100\n",
      "3792/3792 [==============================] - 1s 166us/step - loss: 1292.4825 - mean_absolute_error: 1292.4825\n",
      "Epoch 66/100\n",
      "3792/3792 [==============================] - 1s 167us/step - loss: 1292.2561 - mean_absolute_error: 1292.2561\n",
      "Epoch 67/100\n"
     ]
    },
    {
     "name": "stdout",
     "output_type": "stream",
     "text": [
      "3792/3792 [==============================] - 1s 169us/step - loss: 1285.5860 - mean_absolute_error: 1285.5860\n",
      "Epoch 68/100\n",
      "3792/3792 [==============================] - 1s 164us/step - loss: 1290.0646 - mean_absolute_error: 1290.0646\n",
      "Epoch 69/100\n",
      "3792/3792 [==============================] - 1s 167us/step - loss: 1277.8450 - mean_absolute_error: 1277.8450\n",
      "Epoch 70/100\n",
      "3792/3792 [==============================] - 1s 166us/step - loss: 1274.0818 - mean_absolute_error: 1274.0818\n",
      "Epoch 71/100\n",
      "3792/3792 [==============================] - 1s 165us/step - loss: 1287.6302 - mean_absolute_error: 1287.6302\n",
      "Epoch 72/100\n",
      "3792/3792 [==============================] - 1s 167us/step - loss: 1277.7796 - mean_absolute_error: 1277.7796\n",
      "Epoch 73/100\n",
      "3792/3792 [==============================] - 1s 164us/step - loss: 1273.8557 - mean_absolute_error: 1273.8557\n",
      "Epoch 74/100\n",
      "3792/3792 [==============================] - 1s 168us/step - loss: 1276.8565 - mean_absolute_error: 1276.8565\n",
      "Epoch 75/100\n",
      "3792/3792 [==============================] - 1s 167us/step - loss: 1275.7728 - mean_absolute_error: 1275.7728\n",
      "Epoch 76/100\n",
      "3792/3792 [==============================] - 1s 165us/step - loss: 1275.3111 - mean_absolute_error: 1275.3111\n",
      "Epoch 77/100\n",
      "3792/3792 [==============================] - 1s 166us/step - loss: 1272.2640 - mean_absolute_error: 1272.2640\n",
      "Epoch 78/100\n",
      "3792/3792 [==============================] - 1s 165us/step - loss: 1266.6509 - mean_absolute_error: 1266.6509\n",
      "Epoch 79/100\n",
      "3792/3792 [==============================] - 1s 166us/step - loss: 1266.3211 - mean_absolute_error: 1266.3211\n",
      "Epoch 80/100\n",
      "3792/3792 [==============================] - 1s 165us/step - loss: 1262.9724 - mean_absolute_error: 1262.9724\n",
      "Epoch 81/100\n",
      "3792/3792 [==============================] - 1s 165us/step - loss: 1272.1740 - mean_absolute_error: 1272.1740\n",
      "Epoch 82/100\n",
      "3792/3792 [==============================] - 1s 166us/step - loss: 1270.5063 - mean_absolute_error: 1270.5063\n",
      "Epoch 83/100\n",
      "3792/3792 [==============================] - 1s 174us/step - loss: 1257.9348 - mean_absolute_error: 1257.9348\n",
      "Epoch 84/100\n",
      "3792/3792 [==============================] - 1s 169us/step - loss: 1256.3897 - mean_absolute_error: 1256.3897\n",
      "Epoch 85/100\n",
      "3792/3792 [==============================] - 1s 171us/step - loss: 1255.3215 - mean_absolute_error: 1255.3215\n",
      "Epoch 86/100\n",
      "3792/3792 [==============================] - 1s 169us/step - loss: 1264.4791 - mean_absolute_error: 1264.4791\n",
      "Epoch 87/100\n",
      "3792/3792 [==============================] - 1s 167us/step - loss: 1244.9588 - mean_absolute_error: 1244.9588\n",
      "Epoch 88/100\n",
      "3792/3792 [==============================] - 1s 167us/step - loss: 1243.3473 - mean_absolute_error: 1243.3473\n",
      "Epoch 89/100\n",
      "3792/3792 [==============================] - 1s 165us/step - loss: 1253.9662 - mean_absolute_error: 1253.9662\n",
      "Epoch 90/100\n",
      "3792/3792 [==============================] - 1s 165us/step - loss: 1232.9830 - mean_absolute_error: 1232.9830\n",
      "Epoch 91/100\n",
      "3792/3792 [==============================] - 1s 165us/step - loss: 1244.6486 - mean_absolute_error: 1244.6486\n",
      "Epoch 92/100\n",
      "3792/3792 [==============================] - 1s 165us/step - loss: 1239.9775 - mean_absolute_error: 1239.9775\n",
      "Epoch 93/100\n",
      "3792/3792 [==============================] - 1s 166us/step - loss: 1240.4336 - mean_absolute_error: 1240.4336\n",
      "Epoch 94/100\n",
      "3792/3792 [==============================] - 1s 167us/step - loss: 1248.4333 - mean_absolute_error: 1248.4333\n",
      "Epoch 95/100\n",
      "3792/3792 [==============================] - 1s 166us/step - loss: 1247.5868 - mean_absolute_error: 1247.5868\n",
      "Epoch 96/100\n",
      "3792/3792 [==============================] - 1s 166us/step - loss: 1238.6726 - mean_absolute_error: 1238.6726\n",
      "Epoch 97/100\n",
      "3792/3792 [==============================] - 1s 166us/step - loss: 1249.3575 - mean_absolute_error: 1249.3575\n",
      "Epoch 98/100\n",
      "3792/3792 [==============================] - 1s 166us/step - loss: 1224.9041 - mean_absolute_error: 1224.9041\n",
      "Epoch 99/100\n",
      "3792/3792 [==============================] - 1s 167us/step - loss: 1234.1622 - mean_absolute_error: 1234.1622\n",
      "Epoch 100/100\n",
      "3792/3792 [==============================] - 1s 166us/step - loss: 1220.9655 - mean_absolute_error: 1220.9655\n"
     ]
    },
    {
     "data": {
      "text/plain": [
       "<keras.callbacks.History at 0x10dbb6290>"
      ]
     },
     "execution_count": 38,
     "metadata": {},
     "output_type": "execute_result"
    }
   ],
   "source": [
    "model.compile(loss='mean_absolute_error', optimizer='adam', metrics=['mean_absolute_error'])\n",
    "model.fit(X_train, y_train, batch_size = 10, epochs = 100)"
   ]
  },
  {
   "cell_type": "code",
   "execution_count": 39,
   "metadata": {
    "collapsed": true
   },
   "outputs": [],
   "source": [
    "y_pred = model.predict(X_test)"
   ]
  },
  {
   "cell_type": "code",
   "execution_count": 40,
   "metadata": {},
   "outputs": [
    {
     "data": {
      "image/png": "[encoded data removed]",
      "text/plain": [
       "<matplotlib.figure.Figure at 0x11eaa1bd0>"
      ]
     },
     "metadata": {},
     "output_type": "display_data"
    }
   ],
   "source": [
    "plt.plot(y_test, color = 'red', label = 'Real data')\n",
    "plt.plot(y_pred, color = 'blue', label = 'Predicted data')\n",
    "plt.title('Prediction')\n",
    "plt.legend()\n",
    "plt.show()"
   ]
  }
 ],
 "metadata": {
  "kernelspec": {
   "display_name": "Python 2",
   "language": "python",
   "name": "python2"
  },
  "language_info": {
   "codemirror_mode": {
    "name": "ipython",
    "version": 2
   },
   "file_extension": ".py",
   "mimetype": "text/x-python",
   "name": "python",
   "nbconvert_exporter": "python",
   "pygments_lexer": "ipython2",
   "version": "2.7.13"
  }
 },
 "nbformat": 4,
 "nbformat_minor": 2
}
